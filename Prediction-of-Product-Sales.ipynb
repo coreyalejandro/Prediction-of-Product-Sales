{
  "cells": [
    {
      "cell_type": "markdown",
      "metadata": {
        "id": "view-in-github",
        "colab_type": "text"
      },
      "source": [
        "<a href=\"https://colab.research.google.com/github/coreyalejandro/Prediction-of-Product-Sales/blob/main/Prediction-of-Product-Sales.ipynb\" target=\"_parent\"><img src=\"https://colab.research.google.com/assets/colab-badge.svg\" alt=\"Open In Colab\"/></a>"
      ]
    },
    {
      "cell_type": "markdown",
      "source": [
        "# **Prediction of Product Sales**"
      ],
      "metadata": {
        "noteable": {
          "cell_type": "markdown"
        },
        "id": "3d684b3a-3d5e-4cbf-b316-127aa5390721"
      },
      "id": "3d684b3a-3d5e-4cbf-b316-127aa5390721"
    },
    {
      "cell_type": "markdown",
      "source": [
        "## **Project Overview**\n",
        "\n",
        "### Introduction\n",
        "### Understanding The Task\n",
        "\n",
        "The data scientists at BigMart have collected 2013 sales data for 1559 products across 10 stores in different cities. Certain attributes of each product and store have been defined. The aim is to build a predictive model and predict the sales of each product at a particular outlet.\n",
        "\n",
        "Using this model, BigMart will try to understand the properties of products and outlets which play a key role in increasing sales.\n",
        "The data scientists at BigMart also left us with this short, but important message:\n",
        ">Please note that the data may have missing values as some stores might not report all the data due to technical glitches. Hence, it will be required to treat them accordingly."
      ],
      "metadata": {
        "noteable": {
          "cell_type": "markdown"
        },
        "id": "2dd51758-e070-429d-bf27-9e18c3e6fcce"
      },
      "id": "2dd51758-e070-429d-bf27-9e18c3e6fcce"
    },
    {
      "cell_type": "markdown",
      "source": [
        "### Hypothesis Generation\n",
        "\n",
        "Based on our understanding of the problem and the domain, as well as our personal experiences and perspectives, we have generated the following hypotheses about the factors that might influence product sales at BigMart:\n",
        "\n",
        "#### Product-Related Hypotheses\n",
        "\n",
        "- **Quality**: Products with superior quality, as indicated by user ratings, are likely to have higher sales.\n",
        "- **Price**: The relationship between price and sales is likely to be complex. Extremely high prices might deter some customers, while very low prices might raise questions about the product's quality. There might be an optimal price range that maximizes sales.\n",
        "- **Packaging**: The packaging of a product, including its visual appeal and the information it provides, might influence sales. Products with more attractive or informative packaging might have higher sales.\n",
        "- **Brand**: Products from well-known or highly regarded brands are likely to have higher sales.\n",
        "\n",
        "#### Store-Related Hypotheses\n",
        "\n",
        "- **Location**: Stores located in more populated or affluent areas, or in areas with fewer competing stores, are likely to have higher overall sales.\n",
        "- **Size and Layout**: Larger stores, or stores with more effective layouts, are likely to have higher overall sales.\n",
        "- **Staff**: Stores with more knowledgeable and helpful staff are likely to have higher overall sales.\n",
        "\n",
        "#### Sales and Marketing Strategy Hypotheses\n",
        "\n",
        "- **Product Bundling**: Bundling related products together, or placing them near each other in the store, might increase sales of those products.\n",
        "- **Sales**: Products that are on sale are likely to have higher sales. However, if a product is always on sale, customers might start to perceive the sale price as the regular price.\n",
        "- **One-Stop Shopping**: Grouping all the products needed for a particular event or occasion together might increase sales of those products.\n",
        "- **In-Store Advertising**: Advertising a product in different parts of the store, not just near where it's usually located, might increase sales of that product.\n",
        "\n",
        "These hypotheses will guide our exploratory data analysis. We will explore the data with these hypotheses in mind, looking for patterns and relationships that might support or contradict them."
      ],
      "metadata": {
        "noteable": {
          "cell_type": "markdown"
        },
        "id": "eee3f5fb-06c8-4e15-8117-7fbacd0c36a7"
      },
      "id": "eee3f5fb-06c8-4e15-8117-7fbacd0c36a7"
    },
    {
      "cell_type": "markdown",
      "source": [
        "## Loading and Inspecting the Data"
      ],
      "metadata": {
        "noteable": {
          "cell_type": "markdown"
        },
        "id": "80493feb-4e8f-4ed0-ad45-5318934033e0"
      },
      "id": "80493feb-4e8f-4ed0-ad45-5318934033e0"
    },
    {
      "cell_type": "markdown",
      "source": [
        "### Loading"
      ],
      "metadata": {
        "noteable": {
          "cell_type": "markdown"
        },
        "id": "9be79475-fbf6-4b1c-8b25-dc6f6b3b80d4"
      },
      "id": "9be79475-fbf6-4b1c-8b25-dc6f6b3b80d4"
    },
    {
      "cell_type": "markdown",
      "source": [
        "#### Installs and Imports"
      ],
      "metadata": {
        "noteable": {
          "cell_type": "markdown"
        },
        "id": "a98b368b-9f8a-4aa0-bb7d-32a0a464bd6a"
      },
      "id": "a98b368b-9f8a-4aa0-bb7d-32a0a464bd6a"
    },
    {
      "cell_type": "code",
      "source": [
        "#Installs\n",
        "#!pip install missingno\n",
        "#!pip install pprint\n",
        "#!pip install matplotlib-venn"
      ],
      "outputs": [
        {
          "output_type": "stream",
          "name": "stdout",
          "text": [
            "Requirement already satisfied: missingno in /usr/local/lib/python3.10/dist-packages (0.5.2)\n",
            "Requirement already satisfied: numpy in /usr/local/lib/python3.10/dist-packages (from missingno) (1.22.4)\n",
            "Requirement already satisfied: matplotlib in /usr/local/lib/python3.10/dist-packages (from missingno) (3.7.1)\n",
            "Requirement already satisfied: scipy in /usr/local/lib/python3.10/dist-packages (from missingno) (1.10.1)\n",
            "Requirement already satisfied: seaborn in /usr/local/lib/python3.10/dist-packages (from missingno) (0.12.2)\n",
            "Requirement already satisfied: contourpy>=1.0.1 in /usr/local/lib/python3.10/dist-packages (from matplotlib->missingno) (1.1.0)\n",
            "Requirement already satisfied: cycler>=0.10 in /usr/local/lib/python3.10/dist-packages (from matplotlib->missingno) (0.11.0)\n",
            "Requirement already satisfied: fonttools>=4.22.0 in /usr/local/lib/python3.10/dist-packages (from matplotlib->missingno) (4.40.0)\n",
            "Requirement already satisfied: kiwisolver>=1.0.1 in /usr/local/lib/python3.10/dist-packages (from matplotlib->missingno) (1.4.4)\n",
            "Requirement already satisfied: packaging>=20.0 in /usr/local/lib/python3.10/dist-packages (from matplotlib->missingno) (23.1)\n",
            "Requirement already satisfied: pillow>=6.2.0 in /usr/local/lib/python3.10/dist-packages (from matplotlib->missingno) (8.4.0)\n",
            "Requirement already satisfied: pyparsing>=2.3.1 in /usr/local/lib/python3.10/dist-packages (from matplotlib->missingno) (3.1.0)\n",
            "Requirement already satisfied: python-dateutil>=2.7 in /usr/local/lib/python3.10/dist-packages (from matplotlib->missingno) (2.8.2)\n",
            "Requirement already satisfied: pandas>=0.25 in /usr/local/lib/python3.10/dist-packages (from seaborn->missingno) (1.5.3)\n",
            "Requirement already satisfied: pytz>=2020.1 in /usr/local/lib/python3.10/dist-packages (from pandas>=0.25->seaborn->missingno) (2022.7.1)\n",
            "Requirement already satisfied: six>=1.5 in /usr/local/lib/python3.10/dist-packages (from python-dateutil>=2.7->matplotlib->missingno) (1.16.0)\n",
            "\u001b[31mERROR: Could not find a version that satisfies the requirement pprint (from versions: none)\u001b[0m\u001b[31m\n",
            "\u001b[0m\u001b[31mERROR: No matching distribution found for pprint\u001b[0m\u001b[31m\n",
            "\u001b[0mRequirement already satisfied: matplotlib-venn in /usr/local/lib/python3.10/dist-packages (0.11.9)\n",
            "Requirement already satisfied: matplotlib in /usr/local/lib/python3.10/dist-packages (from matplotlib-venn) (3.7.1)\n",
            "Requirement already satisfied: numpy in /usr/local/lib/python3.10/dist-packages (from matplotlib-venn) (1.22.4)\n",
            "Requirement already satisfied: scipy in /usr/local/lib/python3.10/dist-packages (from matplotlib-venn) (1.10.1)\n",
            "Requirement already satisfied: contourpy>=1.0.1 in /usr/local/lib/python3.10/dist-packages (from matplotlib->matplotlib-venn) (1.1.0)\n",
            "Requirement already satisfied: cycler>=0.10 in /usr/local/lib/python3.10/dist-packages (from matplotlib->matplotlib-venn) (0.11.0)\n",
            "Requirement already satisfied: fonttools>=4.22.0 in /usr/local/lib/python3.10/dist-packages (from matplotlib->matplotlib-venn) (4.40.0)\n",
            "Requirement already satisfied: kiwisolver>=1.0.1 in /usr/local/lib/python3.10/dist-packages (from matplotlib->matplotlib-venn) (1.4.4)\n",
            "Requirement already satisfied: packaging>=20.0 in /usr/local/lib/python3.10/dist-packages (from matplotlib->matplotlib-venn) (23.1)\n",
            "Requirement already satisfied: pillow>=6.2.0 in /usr/local/lib/python3.10/dist-packages (from matplotlib->matplotlib-venn) (8.4.0)\n",
            "Requirement already satisfied: pyparsing>=2.3.1 in /usr/local/lib/python3.10/dist-packages (from matplotlib->matplotlib-venn) (3.1.0)\n",
            "Requirement already satisfied: python-dateutil>=2.7 in /usr/local/lib/python3.10/dist-packages (from matplotlib->matplotlib-venn) (2.8.2)\n",
            "Requirement already satisfied: six>=1.5 in /usr/local/lib/python3.10/dist-packages (from python-dateutil>=2.7->matplotlib->matplotlib-venn) (1.16.0)\n"
          ]
        }
      ],
      "execution_count": 2,
      "metadata": {
        "jupyter": {
          "source_hidden": false,
          "outputs_hidden": false
        },
        "noteable": {
          "cell_type": "code"
        },
        "colab": {
          "base_uri": "https://localhost:8080/"
        },
        "id": "7f0eff2a-c451-40b8-bc7a-93c654b2b8bc",
        "outputId": "3087b788-bb6d-4c10-882c-c793713ee009"
      },
      "id": "7f0eff2a-c451-40b8-bc7a-93c654b2b8bc"
    },
    {
      "cell_type": "code",
      "source": [
        "# Import necessary libraries\n",
        "\n",
        "# For Data Analysis\n",
        "import pandas as pd  # A powerful data manipulation library in Python\n",
        "import numpy as np  # A library that supports multi-dimensional arrays and matrices\n",
        "\n",
        "# For Data Visualization\n",
        "import matplotlib.pyplot as plt  # A Python plotting library used for 2D graphics\n",
        "import seaborn as sns  # A Python data visualization library based on matplotlib\n",
        "import missingno as msno # A Python library for visualizing missing data\n",
        "import matplotlib.patches as mpatches  # A module for drawing shapes\n",
        "\n",
        "# For Working with Dates\n",
        "from datetime import datetime  # A module that support manipulating dates and times\n",
        "\n",
        "# For Displaying Outputs\n",
        "from IPython.display import display  # A tool for displaying diffent outputs\n",
        "import pprint # A Python module that allows for pretty printing of data structures"
      ],
      "outputs": [],
      "execution_count": 7,
      "metadata": {
        "noteable": {
          "cell_type": "code"
        },
        "ExecuteTime": {
          "start_time": "2023-07-05T12:50:24.166129+00:00",
          "end_time": "2023-07-05T12:50:24.323562+00:00"
        },
        "jupyter": {
          "outputs_hidden": false
        },
        "id": "f01a0443-aa09-426d-be14-fa572e8ab566"
      },
      "id": "f01a0443-aa09-426d-be14-fa572e8ab566"
    },
    {
      "cell_type": "markdown",
      "source": [
        "#### Dataset\n",
        "The BigMart sales_predictions_2023 dataset can be found [here](https://raw.githubusercontent.com/coreyalejandro/Prediction-of-Product-Sales/3b70bdd21e316dadafe354cd715804825801fdc9/Data/sales_predictions_2023.csv)."
      ],
      "metadata": {
        "noteable": {
          "cell_type": "markdown"
        },
        "id": "5b04ca4d-f3c5-4449-8b89-1ed2692d3973"
      },
      "id": "5b04ca4d-f3c5-4449-8b89-1ed2692d3973"
    },
    {
      "cell_type": "markdown",
      "source": [
        "#### Data Dictionary\n",
        "\n",
        "- `Item_Identifier`: Unique product ID\n",
        "- `Item_Weight`: Weight of product\n",
        "- `Item_Fat_Content`: Whether the product is low fat or regular\n",
        "- `Item_Visibility`: The percentage of total display area of all products in a store allocated to the particular product\n",
        "- `Item_Type`: The category to which the product belongs\n",
        "- `Item_MRP`: Maximum Retail Price (list price) of the product\n",
        "- `Outlet_Identifier`: Unique store ID\n",
        "- `Outlet_Establishment_Year`: The year in which store was established\n",
        "- `Outlet_Size`: The size of the store in terms of ground area covered\n",
        "- `Outlet_Location_Type`: The type of city in which the store is located\n",
        "- `Outlet_Type`: Whether the outlet is a grocery store or some sort of supermarket\n",
        "- `Item_Outlet_Sales`: Sales of the product in the particular store. This is the target variable to be predicted."
      ],
      "metadata": {
        "noteable": {
          "cell_type": "markdown"
        },
        "id": "5677b391-d90d-4926-b47c-8964ccc4ca8f"
      },
      "id": "5677b391-d90d-4926-b47c-8964ccc4ca8f"
    },
    {
      "cell_type": "markdown",
      "source": [
        "#### DataFrame"
      ],
      "metadata": {
        "noteable": {
          "cell_type": "markdown"
        },
        "id": "1e17b663-2176-414e-86f1-a60b20ccc116"
      },
      "id": "1e17b663-2176-414e-86f1-a60b20ccc116"
    },
    {
      "cell_type": "code",
      "source": [
        "# Loading dataset and reading it into Pandas DataFrame\n",
        "data_url = 'https://raw.githubusercontent.com/coreyalejandro/Prediction-of-Product-Sales/3b70bdd21e316dadafe354cd715804825801fdc9/Data/sales_predictions_2023.csv'\n",
        "df_raw = pd.read_csv(data_url)\n",
        "\n",
        "# Checking success of load by previewing first five rows of DataFrame.\n",
        "pp = pprint.PrettyPrinter(indent=4)\n",
        "pprint.pprint(df_raw.head())\n",
        "print('\\nThe data appear to have loaded successfully.')"
      ],
      "outputs": [
        {
          "output_type": "stream",
          "name": "stdout",
          "text": [
            "  Item_Identifier  Item_Weight Item_Fat_Content  Item_Visibility  \\\n",
            "0           FDA15         9.30          Low Fat         0.016047   \n",
            "1           DRC01         5.92          Regular         0.019278   \n",
            "2           FDN15        17.50          Low Fat         0.016760   \n",
            "3           FDX07        19.20          Regular         0.000000   \n",
            "4           NCD19         8.93          Low Fat         0.000000   \n",
            "\n",
            "               Item_Type  Item_MRP Outlet_Identifier  \\\n",
            "0                  Dairy  249.8092            OUT049   \n",
            "1            Soft Drinks   48.2692            OUT018   \n",
            "2                   Meat  141.6180            OUT049   \n",
            "3  Fruits and Vegetables  182.0950            OUT010   \n",
            "4              Household   53.8614            OUT013   \n",
            "\n",
            "   Outlet_Establishment_Year Outlet_Size Outlet_Location_Type  \\\n",
            "0                       1999      Medium               Tier 1   \n",
            "1                       2009      Medium               Tier 3   \n",
            "2                       1999      Medium               Tier 1   \n",
            "3                       1998         NaN               Tier 3   \n",
            "4                       1987        High               Tier 3   \n",
            "\n",
            "         Outlet_Type  Item_Outlet_Sales  \n",
            "0  Supermarket Type1          3735.1380  \n",
            "1  Supermarket Type2           443.4228  \n",
            "2  Supermarket Type1          2097.2700  \n",
            "3      Grocery Store           732.3800  \n",
            "4  Supermarket Type1           994.7052  \n",
            "\n",
            "The data appear to have loaded successfully.\n"
          ]
        }
      ],
      "execution_count": 8,
      "metadata": {
        "jupyter": {
          "source_hidden": false,
          "outputs_hidden": false
        },
        "noteable": {
          "cell_type": "python"
        },
        "ExecuteTime": {
          "start_time": "2023-07-05T17:05:55.104963+00:00",
          "end_time": "2023-07-05T17:05:55.519426+00:00"
        },
        "colab": {
          "base_uri": "https://localhost:8080/"
        },
        "id": "c6032187-c27f-42ee-b00f-547667c1313d",
        "outputId": "44074124-0329-4cee-dfda-2e3b655b9dab"
      },
      "id": "c6032187-c27f-42ee-b00f-547667c1313d"
    },
    {
      "cell_type": "markdown",
      "source": [
        "### Inspecting the Data"
      ],
      "metadata": {
        "noteable": {
          "cell_type": "markdown"
        },
        "id": "420c6b30-c6d3-4f77-98d8-4889ec3efb30"
      },
      "id": "420c6b30-c6d3-4f77-98d8-4889ec3efb30"
    },
    {
      "cell_type": "code",
      "source": [
        "# Inspect the shape of the DataFrame\n",
        "print(f'\\nThe DataFrame has {df_raw.shape[0]} rows and {df_raw.shape[1]} columns.')\n",
        "\n",
        "# Inspect the data types of the DataFrame\n",
        "print('\\nData types of the DataFrame:\\n')\n",
        "pprint.pprint(df_raw.dtypes)\n",
        "\n",
        "# Additional information about the DataFrame\n",
        "print('\\n')\n",
        "print('\\nAdditional information about the DataFrame:\\n')\n",
        "pprint.pprint(df_raw.info())\n",
        "\n",
        "# Statistical summary of the DataFrame\n",
        "print('\\nStatistical summary of the DataFrame:\\n')\n",
        "pprint.pprint(df_raw.describe())"
      ],
      "outputs": [
        {
          "output_type": "stream",
          "name": "stdout",
          "text": [
            "\n",
            "The DataFrame has 8523 rows and 12 columns.\n",
            "\n",
            "Data types of the DataFrame:\n",
            "\n",
            "Item_Identifier               object\n",
            "Item_Weight                  float64\n",
            "Item_Fat_Content              object\n",
            "Item_Visibility              float64\n",
            "Item_Type                     object\n",
            "Item_MRP                     float64\n",
            "Outlet_Identifier             object\n",
            "Outlet_Establishment_Year      int64\n",
            "Outlet_Size                   object\n",
            "Outlet_Location_Type          object\n",
            "Outlet_Type                   object\n",
            "Item_Outlet_Sales            float64\n",
            "dtype: object\n",
            "\n",
            "\n",
            "\n",
            "Additional information about the DataFrame:\n",
            "\n",
            "<class 'pandas.core.frame.DataFrame'>\n",
            "RangeIndex: 8523 entries, 0 to 8522\n",
            "Data columns (total 12 columns):\n",
            " #   Column                     Non-Null Count  Dtype  \n",
            "---  ------                     --------------  -----  \n",
            " 0   Item_Identifier            8523 non-null   object \n",
            " 1   Item_Weight                7060 non-null   float64\n",
            " 2   Item_Fat_Content           8523 non-null   object \n",
            " 3   Item_Visibility            8523 non-null   float64\n",
            " 4   Item_Type                  8523 non-null   object \n",
            " 5   Item_MRP                   8523 non-null   float64\n",
            " 6   Outlet_Identifier          8523 non-null   object \n",
            " 7   Outlet_Establishment_Year  8523 non-null   int64  \n",
            " 8   Outlet_Size                6113 non-null   object \n",
            " 9   Outlet_Location_Type       8523 non-null   object \n",
            " 10  Outlet_Type                8523 non-null   object \n",
            " 11  Item_Outlet_Sales          8523 non-null   float64\n",
            "dtypes: float64(4), int64(1), object(7)\n",
            "memory usage: 799.2+ KB\n",
            "None\n",
            "\n",
            "Statistical summary of the DataFrame:\n",
            "\n",
            "       Item_Weight  Item_Visibility     Item_MRP  Outlet_Establishment_Year  \\\n",
            "count  7060.000000      8523.000000  8523.000000                8523.000000   \n",
            "mean     12.857645         0.066132   140.992782                1997.831867   \n",
            "std       4.643456         0.051598    62.275067                   8.371760   \n",
            "min       4.555000         0.000000    31.290000                1985.000000   \n",
            "25%       8.773750         0.026989    93.826500                1987.000000   \n",
            "50%      12.600000         0.053931   143.012800                1999.000000   \n",
            "75%      16.850000         0.094585   185.643700                2004.000000   \n",
            "max      21.350000         0.328391   266.888400                2009.000000   \n",
            "\n",
            "       Item_Outlet_Sales  \n",
            "count        8523.000000  \n",
            "mean         2181.288914  \n",
            "std          1706.499616  \n",
            "min            33.290000  \n",
            "25%           834.247400  \n",
            "50%          1794.331000  \n",
            "75%          3101.296400  \n",
            "max         13086.964800  \n"
          ]
        }
      ],
      "execution_count": 9,
      "metadata": {
        "noteable": {
          "cell_type": "code"
        },
        "ExecuteTime": {
          "start_time": "2023-07-05T17:05:15.724697+00:00",
          "end_time": "2023-07-05T17:05:16.239973+00:00"
        },
        "scrolled": false,
        "colab": {
          "base_uri": "https://localhost:8080/"
        },
        "id": "ebce89bc-5359-489c-81ac-c6a15d0074c1",
        "outputId": "515e3242-9947-43a0-a46b-30021e4e4ffa"
      },
      "id": "ebce89bc-5359-489c-81ac-c6a15d0074c1"
    },
    {
      "cell_type": "markdown",
      "source": [
        "### Data Reports\n"
      ],
      "metadata": {
        "noteable": {
          "cell_type": "markdown"
        },
        "id": "1f28f736-4856-4762-b1e5-d415c374fbea"
      },
      "id": "1f28f736-4856-4762-b1e5-d415c374fbea"
    },
    {
      "cell_type": "markdown",
      "source": [
        "#### Hypotheses Report\n",
        "\n",
        "Now that we have generated our hypotheses and inspected the data, let's compare the variables we have in the data with the variables we need to test our hypotheses. We'll create a Venn diagram to visualize this comparison.\n",
        "\n",
        "First, let's list the variables we need to test our hypotheses:\n",
        "\n",
        "- Quality (not available in the data)\n",
        "- Price (available as 'Item_MRP')\n",
        "- Packaging (not directly available in the data)\n",
        "- Brand (not directly available, but we can use 'Item_Identifier' as a proxy)\n",
        "- Store location (available as 'Outlet_Location_Type')\n",
        "- Store size and layout (available as 'Outlet_Size' and 'Outlet_Type')\n",
        "- Staff (not available in the data)\n",
        "- Product bundling (not directly available in the data)\n",
        "- Sales (available as 'Item_Outlet_Sales')\n",
        "- One-stop shopping (not directly available in the data)\n",
        "- In-store advertising (not directly available in the data)\n",
        "\n",
        "As we can see, some of the hypothesized variables are not directly available in the data. However, we can use the available variables as proxies, and/or we can create new features based on the available variables to test our hypotheses. For example, we can use 'Item_Identifier' as a proxy for brand, and we can create new features based on 'Item_Type' and 'Outlet_Type' to test the hypotheses about product bundling and one-stop shopping.\n",
        "\n",
        "Below, we creted a table to visualize the overlap between the hypothesized variables and the variables found in the data."
      ],
      "metadata": {
        "noteable": {
          "cell_type": "markdown"
        },
        "id": "734d1629-5873-475b-b765-d0f67bfd5e1e"
      },
      "id": "734d1629-5873-475b-b765-d0f67bfd5e1e"
    },
    {
      "cell_type": "markdown",
      "source": [
        "**<p align=\"center\">Hypotheses Variables vs Data Variables</p>**\n",
        "\n",
        "| Hypotheses Variable | Data Variable | Inferences (and Assumptions) |\n",
        "| --- | --- | --- |\n",
        "| Quality | Not directly available | Could be inferred from 'Item_MRP' (assuming that higher-priced items are of higher quality) and 'Item_Fat_Content' (assuming that low-fat items are of higher quality) |\n",
        "| Price | 'Item_MRP' | - |\n",
        "| Packaging | Not directly available | Could be inferred from 'Item_Type' and 'Item_Fat_Content' (assuming that certain types of items have certain types of packaging) |\n",
        "| Brand | 'Item_Identifier' | - |\n",
        "| Store location | 'Outlet_Location_Type' | - |\n",
        "| Store size and layout | 'Outlet_Size' and 'Outlet_Type' | - |\n",
        "| Staff | Not available | - |\n",
        "| Product bundling | Not directly available | Could be inferred from 'Item_Type' and 'Outlet_Type' (assuming that certain types of items are more likely to be bundled together and sold at stores of certain types) |\n",
        "| Sales | 'Item_Outlet_Sales' | - |\n",
        "| One-stop shopping | Not directly available | Could be inferred from 'Item_Type' and 'Outlet_Type' (assuming that stores of certain types offer a wider range of items) |\n",
        "| In-store advertising | Not directly available | Could be inferred from 'Item_Visibility' (assuming that more visible items are more likely to be advertised in the store) |"
      ],
      "metadata": {
        "noteable": {
          "cell_type": "markdown"
        },
        "id": "c73e5d51-5234-4cc9-add9-3e5f8b249c80"
      },
      "id": "c73e5d51-5234-4cc9-add9-3e5f8b249c80"
    },
    {
      "cell_type": "markdown",
      "source": [
        "#### Data Inspection Report\n",
        "\n",
        "Here are the observations from the initial inspection of the data:\n",
        "\n",
        "- The DataFrame has 8523 rows and 12 columns.\n",
        "- The columns are a mix of numerical (float64 and int64) and categorical (object) data types.\n",
        "- There are missing values in the 'Item_Weight' and 'Outlet_Size' columns that we'll need to handle appropriately.\n",
        "- The 'Item_Outlet_Sales' column, which is our target variable, is a continuous variable and doesn't have any missing values.\n",
        "\n",
        "Here's a more detailed inspection report:\n",
        "\n",
        "**Item_Identifier**:\n",
        "- This is a categorical variable with unique identifiers for each product.\n",
        "- There are no missing values in this column.\n",
        "\n",
        "**Item_Weight**:\n",
        "- This is a numerical variable representing the weight of the product.\n",
        "- There are missing values in this column that we'll need to handle.\n",
        "\n",
        "**Item_Fat_Content**:\n",
        "- This is a categorical variable representing whether the product is low fat or regular.\n",
        "- There are no missing values in this column.\n",
        "\n",
        "**Item_Visibility**:\n",
        "- This is a numerical variable representing the visibility of the product in the store.\n",
        "- There are no missing values in this column.\n",
        "\n",
        "**Item_Type**:\n",
        "- This is a categorical variable representing the type of the product.\n",
        "- There are no missing values in this column.\n",
        "\n",
        "**Item_MRP**:\n",
        "- This is a numerical variable representing the maximum retail price of the product.\n",
        "- There are no missing values in this column.\n",
        "\n",
        "**Outlet_Identifier**:\n",
        "- This is a categorical variable with unique identifiers for each store.\n",
        "- There are no missing values in this column.\n",
        "\n",
        "**Outlet_Establishment_Year**:\n",
        "- This is a numerical variable representing the year the store was established.\n",
        "- There are no missing values in this column.\n",
        "\n",
        "**Outlet_Size**:\n",
        "- This is a categorical variable representing the size of the store.\n",
        "- There are missing values in this column that we'll need to handle.\n",
        "\n",
        "**Outlet_Location_Type**:\n",
        "- This is a categorical variable representing the type of location where the store is situated.\n",
        "- There are no missing values in this column.\n",
        "\n",
        "**Outlet_Type**:\n",
        "- This is a categorical variable representing the type of the store.\n",
        "- There are no missing values in this column.\n",
        "\n",
        "**Item_Outlet_Sales**:\n",
        "- This is our target variable. It's a numerical variable representing the sales of the product in the particular store.\n",
        "- There are no missing values in this column."
      ],
      "metadata": {
        "noteable": {
          "cell_type": "markdown"
        },
        "id": "1c04e391-8cc1-4388-93d8-851a892d6c66"
      },
      "id": "1c04e391-8cc1-4388-93d8-851a892d6c66"
    },
    {
      "cell_type": "code",
      "source": [
        "# Create a copy of the original dataframe\n",
        "df_raw = df.copy()\n",
        "\n",
        "# Create a separate dataframe for the cleaned data\n",
        "df_clean = df.copy()"
      ],
      "outputs": [],
      "execution_count": null,
      "metadata": {
        "noteable": {
          "cell_type": "code"
        },
        "ExecuteTime": {
          "end_time": "2023-07-03T10:30:51.142152+00:00",
          "start_time": "2023-07-03T10:30:50.985365+00:00"
        },
        "id": "e5ca300c-4b79-4578-ab78-97a71c09b1bf"
      },
      "id": "e5ca300c-4b79-4578-ab78-97a71c09b1bf"
    },
    {
      "cell_type": "markdown",
      "source": [
        "### Remove Unecessary Columns\n",
        "Based on these observations, we might consider the following data cleaning steps:\n",
        "\n",
        "Remove Unnecessary Columns: At this stage, all columns seem to be relevant to our analysis. However, if we find that a column is not contributing useful information for our predictive model, we might consider removing it. For example, if Item_Identifier is just a unique ID for each item and doesn't contain any meaningful pattern, it might not be useful for our model.\n",
        "\n",
        "Convert Columns: We could convert the Outlet_Establishment_Year column to a more interpretable format, such as the age of the store in years. This would involve subtracting the establishment year from the current year.\n"
      ],
      "metadata": {
        "id": "R4b4bfQn92ps"
      },
      "id": "R4b4bfQn92ps"
    },
    {
      "cell_type": "code",
      "source": [
        "# Convert 'Outlet_Establishment_Year' to 'Outlet_Age'\n",
        "import datetime\n",
        "\n",
        "current_year = datetime.datetime.now().year\n",
        "df_raw['Outlet_Age'] = current_year - df_raw['Outlet_Establishment_Year']\n",
        "\n",
        "\n",
        "# Display the first few rows of the dataframe to confirm the changes\n",
        "df_raw.head()"
      ],
      "outputs": [
        {
          "output_type": "execute_result",
          "data": {
            "text/plain": [
              "  Item_Identifier  Item_Weight Item_Fat_Content  Item_Visibility  \\\n",
              "0           FDA15         9.30          Low Fat         0.016047   \n",
              "1           DRC01         5.92          Regular         0.019278   \n",
              "2           FDN15        17.50          Low Fat         0.016760   \n",
              "3           FDX07        19.20          Regular         0.000000   \n",
              "4           NCD19         8.93          Low Fat         0.000000   \n",
              "\n",
              "               Item_Type  Item_MRP Outlet_Identifier  \\\n",
              "0                  Dairy  249.8092            OUT049   \n",
              "1            Soft Drinks   48.2692            OUT018   \n",
              "2                   Meat  141.6180            OUT049   \n",
              "3  Fruits and Vegetables  182.0950            OUT010   \n",
              "4              Household   53.8614            OUT013   \n",
              "\n",
              "   Outlet_Establishment_Year Outlet_Size Outlet_Location_Type  \\\n",
              "0                       1999      Medium               Tier 1   \n",
              "1                       2009      Medium               Tier 3   \n",
              "2                       1999      Medium               Tier 1   \n",
              "3                       1998         NaN               Tier 3   \n",
              "4                       1987        High               Tier 3   \n",
              "\n",
              "         Outlet_Type  Item_Outlet_Sales  Outlet_Age  \n",
              "0  Supermarket Type1          3735.1380          24  \n",
              "1  Supermarket Type2           443.4228          14  \n",
              "2  Supermarket Type1          2097.2700          24  \n",
              "3      Grocery Store           732.3800          25  \n",
              "4  Supermarket Type1           994.7052          36  "
            ],
            "text/html": [
              "\n",
              "  <div id=\"df-a2d3dfca-fcc3-4dc1-af92-346b4cc8d57b\">\n",
              "    <div class=\"colab-df-container\">\n",
              "      <div>\n",
              "<style scoped>\n",
              "    .dataframe tbody tr th:only-of-type {\n",
              "        vertical-align: middle;\n",
              "    }\n",
              "\n",
              "    .dataframe tbody tr th {\n",
              "        vertical-align: top;\n",
              "    }\n",
              "\n",
              "    .dataframe thead th {\n",
              "        text-align: right;\n",
              "    }\n",
              "</style>\n",
              "<table border=\"1\" class=\"dataframe\">\n",
              "  <thead>\n",
              "    <tr style=\"text-align: right;\">\n",
              "      <th></th>\n",
              "      <th>Item_Identifier</th>\n",
              "      <th>Item_Weight</th>\n",
              "      <th>Item_Fat_Content</th>\n",
              "      <th>Item_Visibility</th>\n",
              "      <th>Item_Type</th>\n",
              "      <th>Item_MRP</th>\n",
              "      <th>Outlet_Identifier</th>\n",
              "      <th>Outlet_Establishment_Year</th>\n",
              "      <th>Outlet_Size</th>\n",
              "      <th>Outlet_Location_Type</th>\n",
              "      <th>Outlet_Type</th>\n",
              "      <th>Item_Outlet_Sales</th>\n",
              "      <th>Outlet_Age</th>\n",
              "    </tr>\n",
              "  </thead>\n",
              "  <tbody>\n",
              "    <tr>\n",
              "      <th>0</th>\n",
              "      <td>FDA15</td>\n",
              "      <td>9.30</td>\n",
              "      <td>Low Fat</td>\n",
              "      <td>0.016047</td>\n",
              "      <td>Dairy</td>\n",
              "      <td>249.8092</td>\n",
              "      <td>OUT049</td>\n",
              "      <td>1999</td>\n",
              "      <td>Medium</td>\n",
              "      <td>Tier 1</td>\n",
              "      <td>Supermarket Type1</td>\n",
              "      <td>3735.1380</td>\n",
              "      <td>24</td>\n",
              "    </tr>\n",
              "    <tr>\n",
              "      <th>1</th>\n",
              "      <td>DRC01</td>\n",
              "      <td>5.92</td>\n",
              "      <td>Regular</td>\n",
              "      <td>0.019278</td>\n",
              "      <td>Soft Drinks</td>\n",
              "      <td>48.2692</td>\n",
              "      <td>OUT018</td>\n",
              "      <td>2009</td>\n",
              "      <td>Medium</td>\n",
              "      <td>Tier 3</td>\n",
              "      <td>Supermarket Type2</td>\n",
              "      <td>443.4228</td>\n",
              "      <td>14</td>\n",
              "    </tr>\n",
              "    <tr>\n",
              "      <th>2</th>\n",
              "      <td>FDN15</td>\n",
              "      <td>17.50</td>\n",
              "      <td>Low Fat</td>\n",
              "      <td>0.016760</td>\n",
              "      <td>Meat</td>\n",
              "      <td>141.6180</td>\n",
              "      <td>OUT049</td>\n",
              "      <td>1999</td>\n",
              "      <td>Medium</td>\n",
              "      <td>Tier 1</td>\n",
              "      <td>Supermarket Type1</td>\n",
              "      <td>2097.2700</td>\n",
              "      <td>24</td>\n",
              "    </tr>\n",
              "    <tr>\n",
              "      <th>3</th>\n",
              "      <td>FDX07</td>\n",
              "      <td>19.20</td>\n",
              "      <td>Regular</td>\n",
              "      <td>0.000000</td>\n",
              "      <td>Fruits and Vegetables</td>\n",
              "      <td>182.0950</td>\n",
              "      <td>OUT010</td>\n",
              "      <td>1998</td>\n",
              "      <td>NaN</td>\n",
              "      <td>Tier 3</td>\n",
              "      <td>Grocery Store</td>\n",
              "      <td>732.3800</td>\n",
              "      <td>25</td>\n",
              "    </tr>\n",
              "    <tr>\n",
              "      <th>4</th>\n",
              "      <td>NCD19</td>\n",
              "      <td>8.93</td>\n",
              "      <td>Low Fat</td>\n",
              "      <td>0.000000</td>\n",
              "      <td>Household</td>\n",
              "      <td>53.8614</td>\n",
              "      <td>OUT013</td>\n",
              "      <td>1987</td>\n",
              "      <td>High</td>\n",
              "      <td>Tier 3</td>\n",
              "      <td>Supermarket Type1</td>\n",
              "      <td>994.7052</td>\n",
              "      <td>36</td>\n",
              "    </tr>\n",
              "  </tbody>\n",
              "</table>\n",
              "</div>\n",
              "      <button class=\"colab-df-convert\" onclick=\"convertToInteractive('df-a2d3dfca-fcc3-4dc1-af92-346b4cc8d57b')\"\n",
              "              title=\"Convert this dataframe to an interactive table.\"\n",
              "              style=\"display:none;\">\n",
              "        \n",
              "  <svg xmlns=\"http://www.w3.org/2000/svg\" height=\"24px\"viewBox=\"0 0 24 24\"\n",
              "       width=\"24px\">\n",
              "    <path d=\"M0 0h24v24H0V0z\" fill=\"none\"/>\n",
              "    <path d=\"M18.56 5.44l.94 2.06.94-2.06 2.06-.94-2.06-.94-.94-2.06-.94 2.06-2.06.94zm-11 1L8.5 8.5l.94-2.06 2.06-.94-2.06-.94L8.5 2.5l-.94 2.06-2.06.94zm10 10l.94 2.06.94-2.06 2.06-.94-2.06-.94-.94-2.06-.94 2.06-2.06.94z\"/><path d=\"M17.41 7.96l-1.37-1.37c-.4-.4-.92-.59-1.43-.59-.52 0-1.04.2-1.43.59L10.3 9.45l-7.72 7.72c-.78.78-.78 2.05 0 2.83L4 21.41c.39.39.9.59 1.41.59.51 0 1.02-.2 1.41-.59l7.78-7.78 2.81-2.81c.8-.78.8-2.07 0-2.86zM5.41 20L4 18.59l7.72-7.72 1.47 1.35L5.41 20z\"/>\n",
              "  </svg>\n",
              "      </button>\n",
              "      \n",
              "  <style>\n",
              "    .colab-df-container {\n",
              "      display:flex;\n",
              "      flex-wrap:wrap;\n",
              "      gap: 12px;\n",
              "    }\n",
              "\n",
              "    .colab-df-convert {\n",
              "      background-color: #E8F0FE;\n",
              "      border: none;\n",
              "      border-radius: 50%;\n",
              "      cursor: pointer;\n",
              "      display: none;\n",
              "      fill: #1967D2;\n",
              "      height: 32px;\n",
              "      padding: 0 0 0 0;\n",
              "      width: 32px;\n",
              "    }\n",
              "\n",
              "    .colab-df-convert:hover {\n",
              "      background-color: #E2EBFA;\n",
              "      box-shadow: 0px 1px 2px rgba(60, 64, 67, 0.3), 0px 1px 3px 1px rgba(60, 64, 67, 0.15);\n",
              "      fill: #174EA6;\n",
              "    }\n",
              "\n",
              "    [theme=dark] .colab-df-convert {\n",
              "      background-color: #3B4455;\n",
              "      fill: #D2E3FC;\n",
              "    }\n",
              "\n",
              "    [theme=dark] .colab-df-convert:hover {\n",
              "      background-color: #434B5C;\n",
              "      box-shadow: 0px 1px 3px 1px rgba(0, 0, 0, 0.15);\n",
              "      filter: drop-shadow(0px 1px 2px rgba(0, 0, 0, 0.3));\n",
              "      fill: #FFFFFF;\n",
              "    }\n",
              "  </style>\n",
              "\n",
              "      <script>\n",
              "        const buttonEl =\n",
              "          document.querySelector('#df-a2d3dfca-fcc3-4dc1-af92-346b4cc8d57b button.colab-df-convert');\n",
              "        buttonEl.style.display =\n",
              "          google.colab.kernel.accessAllowed ? 'block' : 'none';\n",
              "\n",
              "        async function convertToInteractive(key) {\n",
              "          const element = document.querySelector('#df-a2d3dfca-fcc3-4dc1-af92-346b4cc8d57b');\n",
              "          const dataTable =\n",
              "            await google.colab.kernel.invokeFunction('convertToInteractive',\n",
              "                                                     [key], {});\n",
              "          if (!dataTable) return;\n",
              "\n",
              "          const docLinkHtml = 'Like what you see? Visit the ' +\n",
              "            '<a target=\"_blank\" href=https://colab.research.google.com/notebooks/data_table.ipynb>data table notebook</a>'\n",
              "            + ' to learn more about interactive tables.';\n",
              "          element.innerHTML = '';\n",
              "          dataTable['output_type'] = 'display_data';\n",
              "          await google.colab.output.renderOutput(dataTable, element);\n",
              "          const docLink = document.createElement('div');\n",
              "          docLink.innerHTML = docLinkHtml;\n",
              "          element.appendChild(docLink);\n",
              "        }\n",
              "      </script>\n",
              "    </div>\n",
              "  </div>\n",
              "  "
            ]
          },
          "metadata": {},
          "execution_count": 11
        }
      ],
      "execution_count": 11,
      "metadata": {
        "noteable": {
          "cell_type": "code"
        },
        "ExecuteTime": {
          "end_time": "2023-07-03T10:05:26.569625+00:00",
          "start_time": "2023-07-03T10:05:26.014674+00:00"
        },
        "jupyter": {
          "outputs_hidden": false
        },
        "colab": {
          "base_uri": "https://localhost:8080/",
          "height": 357
        },
        "id": "ac5b0702-f07e-43db-acd0-0434bebb4a4d",
        "outputId": "5e740695-6d8a-47ed-e67e-ded96a938c93"
      },
      "id": "ac5b0702-f07e-43db-acd0-0434bebb4a4d"
    },
    {
      "cell_type": "markdown",
      "source": [
        "## Updated Data Dictionary\n",
        "\n",
        "\n",
        "Here is the updated data dictionary for the cleaned variables in the `df_clean` dataframe:\n",
        "\n",
        "- `Item_Identifier`: Unique product ID\n",
        "- `Item_Weight`: Weight of product\n",
        "- `Item_Fat_Content`: Whether the product is low fat or regular\n",
        "- `Item_Visibility`: The percentage of total display area of all products in a store allocated to the particular product\n",
        "- `Item_Type`: The category to which the product belongs\n",
        "- `Item_MRP`: Maximum Retail Price (list price) of the product\n",
        "- `Outlet_Identifier`: Unique store ID\n",
        "- `Outlet_Size`: The size of the store in terms of ground area covered\n",
        "- `Outlet_Location_Type`: The type of city in which the store is located\n",
        "- `Outlet_Type`: Whether the outlet is a grocery store or some sort of supermarket\n",
        "- `Item_Outlet_Sales`: Sales of the product in the particular store. This is the target variable to be predicted.\n",
        "- `Outlet_Age`: The age of the store in years, calculated as the current year minus the year the store was established."
      ],
      "metadata": {
        "noteable": {
          "cell_type": "markdown"
        },
        "id": "9a05fc61-cea0-4e39-9d01-79d1aa51c9fc"
      },
      "id": "9a05fc61-cea0-4e39-9d01-79d1aa51c9fc"
    },
    {
      "cell_type": "markdown",
      "source": [
        "### Missing Data"
      ],
      "metadata": {
        "noteable": {
          "cell_type": "markdown"
        },
        "id": "c920c640-5a5c-45dc-872a-2ac7d8a966d2"
      },
      "id": "c920c640-5a5c-45dc-872a-2ac7d8a966d2"
    },
    {
      "cell_type": "markdown",
      "source": [
        "Next, we'll need to handle the missing values in the 'Item_Weight' and 'Outlet_Size' columns. The strategy for handling these missing values will depend on the nature of these variables and the business context. For example, we might fill the missing values with the mean or median of the 'Item_Weight' column, or we might use a more complex imputation method based on other variables. For the 'Outlet_Size' column, we might fill the missing values with the most common size, or we might use a more complex method based on other variables."
      ],
      "metadata": {
        "noteable": {
          "cell_type": "markdown"
        },
        "id": "0e9e4d6e-d815-4730-ae93-b1a019a3d4b1"
      },
      "id": "0e9e4d6e-d815-4730-ae93-b1a019a3d4b1"
    }
  ],
  "metadata": {
    "noteable-chatgpt": {
      "create_notebook": {
        "openai_conversation_id": "33641ec0-7b1d-5604-a186-c506eab7efc9",
        "openai_ephemeral_user_id": "4adadf44-804b-5a5c-9751-7b81dbb8f9c8",
        "openai_subdivision1_iso_code": "US-TX"
      }
    },
    "noteable": {
      "last_transaction_id": "b28660da-f6e1-4b1d-858b-c68ae3a7ee1e",
      "last_delta_id": "45ff7ad2-76ab-4c59-a785-d8e04b7c55d4"
    },
    "selected_hardware_size": "small",
    "nteract": {
      "version": "noteable@2.9.0"
    },
    "colab": {
      "provenance": [],
      "toc_visible": true,
      "include_colab_link": true
    },
    "language_info": {
      "name": "python"
    },
    "kernelspec": {
      "name": "python3",
      "display_name": "Python 3"
    }
  },
  "nbformat": 4,
  "nbformat_minor": 5
}