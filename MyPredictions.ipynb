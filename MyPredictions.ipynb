{
  "cells": [
    {
      "cell_type": "markdown",
      "metadata": {
        "id": "view-in-github",
        "colab_type": "text"
      },
      "source": [
        "<a href=\"https://colab.research.google.com/github/coreyalejandro/Prediction-of-Product-Sales/blob/main/MyPredictions.ipynb\" target=\"_parent\"><img src=\"https://colab.research.google.com/assets/colab-badge.svg\" alt=\"Open In Colab\"/></a>"
      ]
    },
    {
      "cell_type": "markdown",
      "source": [
        "# **Prediction of Project Sales**\n",
        "\n",
        "- #### **Author:** Corey Alejandro\n",
        "- #### **Last Updated:** May 2023\n"
      ],
      "metadata": {
        "id": "GodbAtOGjupj"
      }
    },
    {
      "cell_type": "markdown",
      "source": [
        "## **Project Overview**"
      ],
      "metadata": {
        "id": "4vsfXBPrnHyd"
      }
    },
    {
      "cell_type": "markdown",
      "source": [
        "This data science project is an end-to-end predictive sales prediction for food items sold at one company's various stores. The goal of the project is to help the retailer understand what features of products and of stores play a crucial roles in increasing sales. The project employs a loosley coupled  gurcedais the Data Dictionary for this dataset:"
      ],
      "metadata": {
        "id": "C3LlOKLSu1Gf"
      }
    },
    {
      "cell_type": "markdown",
      "source": [
        "## **Phase 1. Business Understanding**\n",
        "\n",
        "- *What is the stakeholder's goal? What do they need*?"
      ],
      "metadata": {
        "id": "M9MBTTVWpAW5"
      }
    },
    {
      "cell_type": "markdown",
      "source": [
        "### **Our Task/Stakeholders**\n",
        "\n",
        "**Our stakeholders are:** BigMart retailors.\n",
        "\n",
        "**Their primary goal is:** To understand the properties of products and outlets that drive sales\n",
        "\n",
        "**They plan to:** Provide the data be used to build the predictive model.\n",
        "\n",
        "**What they need/expect:** Actionable insights/recommendations for which modifications they can make to increase the sales of their products.\n",
        "\n",
        "\n",
        "With this established, whenever doubts or questions about which option would be best for our analysis arises, we can return to our business understanding to remind ourselves: what is important.\n",
        "\n"
      ],
      "metadata": {
        "id": "OL5IfwIdnaXO"
      }
    },
    {
      "cell_type": "markdown",
      "metadata": {
        "id": "XoeHKyiETPqD"
      },
      "source": [
        "## **The Data**"
      ]
    },
    {
      "cell_type": "markdown",
      "source": [
        "### **Dataset**"
      ],
      "metadata": {
        "id": "NVeAajEamfVm"
      }
    },
    {
      "cell_type": "markdown",
      "source": [
        "The sales data was retrieved from [here](https://drive.google.com/file/d/1syH81TVrbBsdymLT_jl2JIf6IjPXtSQw/view) \n",
        "\n",
        "The data was originally sourced from [analyticsvidhya.com](https://datahack.analyticsvidhya.com/contest/practice-problem-big-mart-sales-iii/)"
      ],
      "metadata": {
        "id": "sclZV1yViX7Q"
      }
    },
    {
      "cell_type": "markdown",
      "source": [
        "### **Data Dictionary**"
      ],
      "metadata": {
        "id": "786S1d586d0G"
      }
    },
    {
      "cell_type": "markdown",
      "source": [
        "<table style=\"border-collapse: collapse; border: 1px solid black;\"><caption> <strong> Data Dictionary </strong> </caption><tbody><tr><td style=\"border: 1px solid black;\"><strong>Variable Name</strong></td><td style=\"border: 1px solid black;\"><strong>Description</strong></td></tr><tr><td style=\"border: 1px solid black;\">Item_Identifier</td><td style=\"border: 1px solid black;\">Unique product ID</td></tr><tr><td style=\"border: 1px solid black;\">Item_Weight</td><td style=\"border: 1px solid black;\">Weight of product</td></tr><tr><td style=\"border: 1px solid black;\">Item_Fat_Content</td><td style=\"border: 1px solid black;\">Whether the product is low fat or regular</td></tr><tr><td style=\"border: 1px solid black;\">Item_Visibility</td><td style=\"border: 1px solid black;\">The percentage of total display area of all products in a store allocated to the particular product</td></tr><tr><td style=\"border: 1px solid black;\">Item_Type</td><td style=\"border: 1px solid black;\">The category to which the product belongs</td></tr><tr><td style=\"border: 1px solid black;\">Item_MRP</td><td style=\"border: 1px solid black;\">Maximum Retail Price (list price) of the product</td></tr><tr><td style=\"border: 1px solid black;\">Outlet_Identifier</td><td style=\"border: 1px solid black;\">Unique store ID</td></tr><tr><td style=\"border: 1px solid black;\">Outlet_Establishment_Year</td><td style=\"border: 1px solid black;\">The year in which store was established</td></tr><tr><td style=\"border: 1px solid black;\">Outlet_Size</td><td style=\"border: 1px solid black;\">The size of the store in terms of ground area covered</td></tr><tr><td style=\"border: 1px solid black;\">Outlet_Location_Type</td><td style=\"border: 1px solid black;\">The type of area in which the store is located</td></tr><tr><td style=\"border: 1px solid black;\">Outlet_Type</td><td style=\"border: 1px solid black;\">Whether the outlet is a grocery store or some sort of supermarket</td></tr><tr><td style=\"border: 1px solid black;\">Item_Outlet_Sales</td><td style=\"border: 1px solid black;\">Sales of the product in the particular store. This is the target variable to be predicted.<a href=\"https://github.com/ShauryaBhandari/Bigmart-Sales-Prediction#why-does-the-the-problem-need-to-be-solved\"></a></td></tr></tbody></table>"
      ],
      "metadata": {
        "id": "NtiW176GlNlV"
      }
    },
    {
      "cell_type": "markdown",
      "source": [
        "Hypothesis check"
      ],
      "metadata": {
        "id": "eYvqPLBUJmW9"
      }
    },
    {
      "cell_type": "markdown",
      "metadata": {
        "id": "KveHk-S4cX5y"
      },
      "source": [
        "### **Import Libraries**"
      ]
    },
    {
      "cell_type": "code",
      "execution_count": null,
      "metadata": {
        "id": "WgJ6LhF7cT2a"
      },
      "outputs": [],
      "source": [
        "## Import necessary packages.\n",
        "import pandas as pd\n",
        "import numpy as np\n",
        "import matplotlib.pyplot as plt\n",
        "import seaborn as sns"
      ]
    },
    {
      "cell_type": "markdown",
      "metadata": {
        "id": "0QQVnSdzlZBP"
      },
      "source": [
        "### **Load the Data**"
      ]
    },
    {
      "cell_type": "code",
      "source": [
        "## Define the url of the file to load.\n",
        "url = 'https://drive.google.com/file/d/1syH81TVrbBsdymLT_jl2JIf6IjPXtSQw/view?usp=sharing'\n",
        "file_id = url.split('/')[-2]\n",
        "dwn_url = 'https://drive.google.com/uc?id=' + file_id\n"
      ],
      "metadata": {
        "id": "sB6zoJt61DUP"
      },
      "execution_count": null,
      "outputs": []
    },
    {
      "cell_type": "code",
      "source": [
        "## Load dataset as Pandas dataframe.\n",
        "df = pd.read_csv(dwn_url)"
      ],
      "metadata": {
        "id": "fO5d6QIb9JpF"
      },
      "execution_count": null,
      "outputs": []
    },
    {
      "cell_type": "markdown",
      "source": [
        "### **Inspect the Data**"
      ],
      "metadata": {
        "id": "NdNFCnyJ4Cqi"
      }
    },
    {
      "cell_type": "markdown",
      "source": [
        "#### **.head()**"
      ],
      "metadata": {
        "id": "uK0NV2OzoI8b"
      }
    },
    {
      "cell_type": "code",
      "source": [
        "## Display the first (5) rows of the dataframe\n",
        "df.head()"
      ],
      "metadata": {
        "colab": {
          "base_uri": "https://localhost:8080/",
          "height": 357
        },
        "id": "Kf2J7zwJoEYc",
        "outputId": "8e54abea-e9d7-4acb-cce3-90028075a01f"
      },
      "execution_count": null,
      "outputs": [
        {
          "output_type": "execute_result",
          "data": {
            "text/plain": [
              "  Item_Identifier  Item_Weight Item_Fat_Content  Item_Visibility  \\\n",
              "0           FDA15         9.30          Low Fat         0.016047   \n",
              "1           DRC01         5.92          Regular         0.019278   \n",
              "2           FDN15        17.50          Low Fat         0.016760   \n",
              "3           FDX07        19.20          Regular         0.000000   \n",
              "4           NCD19         8.93          Low Fat         0.000000   \n",
              "\n",
              "               Item_Type  Item_MRP Outlet_Identifier  \\\n",
              "0                  Dairy  249.8092            OUT049   \n",
              "1            Soft Drinks   48.2692            OUT018   \n",
              "2                   Meat  141.6180            OUT049   \n",
              "3  Fruits and Vegetables  182.0950            OUT010   \n",
              "4              Household   53.8614            OUT013   \n",
              "\n",
              "   Outlet_Establishment_Year Outlet_Size Outlet_Location_Type  \\\n",
              "0                       1999      Medium               Tier 1   \n",
              "1                       2009      Medium               Tier 3   \n",
              "2                       1999      Medium               Tier 1   \n",
              "3                       1998         NaN               Tier 3   \n",
              "4                       1987        High               Tier 3   \n",
              "\n",
              "         Outlet_Type  Item_Outlet_Sales  \n",
              "0  Supermarket Type1          3735.1380  \n",
              "1  Supermarket Type2           443.4228  \n",
              "2  Supermarket Type1          2097.2700  \n",
              "3      Grocery Store           732.3800  \n",
              "4  Supermarket Type1           994.7052  "
            ],
            "text/html": [
              "\n",
              "  <div id=\"df-ccf6e779-bbf3-4e94-a125-d5b8a1704237\">\n",
              "    <div class=\"colab-df-container\">\n",
              "      <div>\n",
              "<style scoped>\n",
              "    .dataframe tbody tr th:only-of-type {\n",
              "        vertical-align: middle;\n",
              "    }\n",
              "\n",
              "    .dataframe tbody tr th {\n",
              "        vertical-align: top;\n",
              "    }\n",
              "\n",
              "    .dataframe thead th {\n",
              "        text-align: right;\n",
              "    }\n",
              "</style>\n",
              "<table border=\"1\" class=\"dataframe\">\n",
              "  <thead>\n",
              "    <tr style=\"text-align: right;\">\n",
              "      <th></th>\n",
              "      <th>Item_Identifier</th>\n",
              "      <th>Item_Weight</th>\n",
              "      <th>Item_Fat_Content</th>\n",
              "      <th>Item_Visibility</th>\n",
              "      <th>Item_Type</th>\n",
              "      <th>Item_MRP</th>\n",
              "      <th>Outlet_Identifier</th>\n",
              "      <th>Outlet_Establishment_Year</th>\n",
              "      <th>Outlet_Size</th>\n",
              "      <th>Outlet_Location_Type</th>\n",
              "      <th>Outlet_Type</th>\n",
              "      <th>Item_Outlet_Sales</th>\n",
              "    </tr>\n",
              "  </thead>\n",
              "  <tbody>\n",
              "    <tr>\n",
              "      <th>0</th>\n",
              "      <td>FDA15</td>\n",
              "      <td>9.30</td>\n",
              "      <td>Low Fat</td>\n",
              "      <td>0.016047</td>\n",
              "      <td>Dairy</td>\n",
              "      <td>249.8092</td>\n",
              "      <td>OUT049</td>\n",
              "      <td>1999</td>\n",
              "      <td>Medium</td>\n",
              "      <td>Tier 1</td>\n",
              "      <td>Supermarket Type1</td>\n",
              "      <td>3735.1380</td>\n",
              "    </tr>\n",
              "    <tr>\n",
              "      <th>1</th>\n",
              "      <td>DRC01</td>\n",
              "      <td>5.92</td>\n",
              "      <td>Regular</td>\n",
              "      <td>0.019278</td>\n",
              "      <td>Soft Drinks</td>\n",
              "      <td>48.2692</td>\n",
              "      <td>OUT018</td>\n",
              "      <td>2009</td>\n",
              "      <td>Medium</td>\n",
              "      <td>Tier 3</td>\n",
              "      <td>Supermarket Type2</td>\n",
              "      <td>443.4228</td>\n",
              "    </tr>\n",
              "    <tr>\n",
              "      <th>2</th>\n",
              "      <td>FDN15</td>\n",
              "      <td>17.50</td>\n",
              "      <td>Low Fat</td>\n",
              "      <td>0.016760</td>\n",
              "      <td>Meat</td>\n",
              "      <td>141.6180</td>\n",
              "      <td>OUT049</td>\n",
              "      <td>1999</td>\n",
              "      <td>Medium</td>\n",
              "      <td>Tier 1</td>\n",
              "      <td>Supermarket Type1</td>\n",
              "      <td>2097.2700</td>\n",
              "    </tr>\n",
              "    <tr>\n",
              "      <th>3</th>\n",
              "      <td>FDX07</td>\n",
              "      <td>19.20</td>\n",
              "      <td>Regular</td>\n",
              "      <td>0.000000</td>\n",
              "      <td>Fruits and Vegetables</td>\n",
              "      <td>182.0950</td>\n",
              "      <td>OUT010</td>\n",
              "      <td>1998</td>\n",
              "      <td>NaN</td>\n",
              "      <td>Tier 3</td>\n",
              "      <td>Grocery Store</td>\n",
              "      <td>732.3800</td>\n",
              "    </tr>\n",
              "    <tr>\n",
              "      <th>4</th>\n",
              "      <td>NCD19</td>\n",
              "      <td>8.93</td>\n",
              "      <td>Low Fat</td>\n",
              "      <td>0.000000</td>\n",
              "      <td>Household</td>\n",
              "      <td>53.8614</td>\n",
              "      <td>OUT013</td>\n",
              "      <td>1987</td>\n",
              "      <td>High</td>\n",
              "      <td>Tier 3</td>\n",
              "      <td>Supermarket Type1</td>\n",
              "      <td>994.7052</td>\n",
              "    </tr>\n",
              "  </tbody>\n",
              "</table>\n",
              "</div>\n",
              "      <button class=\"colab-df-convert\" onclick=\"convertToInteractive('df-ccf6e779-bbf3-4e94-a125-d5b8a1704237')\"\n",
              "              title=\"Convert this dataframe to an interactive table.\"\n",
              "              style=\"display:none;\">\n",
              "        \n",
              "  <svg xmlns=\"http://www.w3.org/2000/svg\" height=\"24px\"viewBox=\"0 0 24 24\"\n",
              "       width=\"24px\">\n",
              "    <path d=\"M0 0h24v24H0V0z\" fill=\"none\"/>\n",
              "    <path d=\"M18.56 5.44l.94 2.06.94-2.06 2.06-.94-2.06-.94-.94-2.06-.94 2.06-2.06.94zm-11 1L8.5 8.5l.94-2.06 2.06-.94-2.06-.94L8.5 2.5l-.94 2.06-2.06.94zm10 10l.94 2.06.94-2.06 2.06-.94-2.06-.94-.94-2.06-.94 2.06-2.06.94z\"/><path d=\"M17.41 7.96l-1.37-1.37c-.4-.4-.92-.59-1.43-.59-.52 0-1.04.2-1.43.59L10.3 9.45l-7.72 7.72c-.78.78-.78 2.05 0 2.83L4 21.41c.39.39.9.59 1.41.59.51 0 1.02-.2 1.41-.59l7.78-7.78 2.81-2.81c.8-.78.8-2.07 0-2.86zM5.41 20L4 18.59l7.72-7.72 1.47 1.35L5.41 20z\"/>\n",
              "  </svg>\n",
              "      </button>\n",
              "      \n",
              "  <style>\n",
              "    .colab-df-container {\n",
              "      display:flex;\n",
              "      flex-wrap:wrap;\n",
              "      gap: 12px;\n",
              "    }\n",
              "\n",
              "    .colab-df-convert {\n",
              "      background-color: #E8F0FE;\n",
              "      border: none;\n",
              "      border-radius: 50%;\n",
              "      cursor: pointer;\n",
              "      display: none;\n",
              "      fill: #1967D2;\n",
              "      height: 32px;\n",
              "      padding: 0 0 0 0;\n",
              "      width: 32px;\n",
              "    }\n",
              "\n",
              "    .colab-df-convert:hover {\n",
              "      background-color: #E2EBFA;\n",
              "      box-shadow: 0px 1px 2px rgba(60, 64, 67, 0.3), 0px 1px 3px 1px rgba(60, 64, 67, 0.15);\n",
              "      fill: #174EA6;\n",
              "    }\n",
              "\n",
              "    [theme=dark] .colab-df-convert {\n",
              "      background-color: #3B4455;\n",
              "      fill: #D2E3FC;\n",
              "    }\n",
              "\n",
              "    [theme=dark] .colab-df-convert:hover {\n",
              "      background-color: #434B5C;\n",
              "      box-shadow: 0px 1px 3px 1px rgba(0, 0, 0, 0.15);\n",
              "      filter: drop-shadow(0px 1px 2px rgba(0, 0, 0, 0.3));\n",
              "      fill: #FFFFFF;\n",
              "    }\n",
              "  </style>\n",
              "\n",
              "      <script>\n",
              "        const buttonEl =\n",
              "          document.querySelector('#df-ccf6e779-bbf3-4e94-a125-d5b8a1704237 button.colab-df-convert');\n",
              "        buttonEl.style.display =\n",
              "          google.colab.kernel.accessAllowed ? 'block' : 'none';\n",
              "\n",
              "        async function convertToInteractive(key) {\n",
              "          const element = document.querySelector('#df-ccf6e779-bbf3-4e94-a125-d5b8a1704237');\n",
              "          const dataTable =\n",
              "            await google.colab.kernel.invokeFunction('convertToInteractive',\n",
              "                                                     [key], {});\n",
              "          if (!dataTable) return;\n",
              "\n",
              "          const docLinkHtml = 'Like what you see? Visit the ' +\n",
              "            '<a target=\"_blank\" href=https://colab.research.google.com/notebooks/data_table.ipynb>data table notebook</a>'\n",
              "            + ' to learn more about interactive tables.';\n",
              "          element.innerHTML = '';\n",
              "          dataTable['output_type'] = 'display_data';\n",
              "          await google.colab.output.renderOutput(dataTable, element);\n",
              "          const docLink = document.createElement('div');\n",
              "          docLink.innerHTML = docLinkHtml;\n",
              "          element.appendChild(docLink);\n",
              "        }\n",
              "      </script>\n",
              "    </div>\n",
              "  </div>\n",
              "  "
            ]
          },
          "metadata": {},
          "execution_count": 6
        }
      ]
    },
    {
      "cell_type": "markdown",
      "source": [
        "#### **df.tail()**"
      ],
      "metadata": {
        "id": "k1DZKMd3OR2U"
      }
    },
    {
      "cell_type": "code",
      "source": [
        "# Display the last 5 rows\n",
        "df.tail()"
      ],
      "metadata": {
        "colab": {
          "base_uri": "https://localhost:8080/",
          "height": 357
        },
        "id": "_jOww2oHOVBT",
        "outputId": "dee9616d-814b-4525-fe57-6c29a961f531"
      },
      "execution_count": null,
      "outputs": [
        {
          "output_type": "execute_result",
          "data": {
            "text/plain": [
              "     Item_Identifier  Item_Weight Item_Fat_Content  Item_Visibility  \\\n",
              "8518           FDF22        6.865          Low Fat         0.056783   \n",
              "8519           FDS36        8.380          Regular         0.046982   \n",
              "8520           NCJ29       10.600          Low Fat         0.035186   \n",
              "8521           FDN46        7.210          Regular         0.145221   \n",
              "8522           DRG01       14.800          Low Fat         0.044878   \n",
              "\n",
              "               Item_Type  Item_MRP Outlet_Identifier  \\\n",
              "8518         Snack Foods  214.5218            OUT013   \n",
              "8519        Baking Goods  108.1570            OUT045   \n",
              "8520  Health and Hygiene   85.1224            OUT035   \n",
              "8521         Snack Foods  103.1332            OUT018   \n",
              "8522         Soft Drinks   75.4670            OUT046   \n",
              "\n",
              "      Outlet_Establishment_Year Outlet_Size Outlet_Location_Type  \\\n",
              "8518                       1987        High               Tier 3   \n",
              "8519                       2002         NaN               Tier 2   \n",
              "8520                       2004       Small               Tier 2   \n",
              "8521                       2009      Medium               Tier 3   \n",
              "8522                       1997       Small               Tier 1   \n",
              "\n",
              "            Outlet_Type  Item_Outlet_Sales  \n",
              "8518  Supermarket Type1          2778.3834  \n",
              "8519  Supermarket Type1           549.2850  \n",
              "8520  Supermarket Type1          1193.1136  \n",
              "8521  Supermarket Type2          1845.5976  \n",
              "8522  Supermarket Type1           765.6700  "
            ],
            "text/html": [
              "\n",
              "  <div id=\"df-773aae32-5a9a-41ff-86f2-a376397db82e\">\n",
              "    <div class=\"colab-df-container\">\n",
              "      <div>\n",
              "<style scoped>\n",
              "    .dataframe tbody tr th:only-of-type {\n",
              "        vertical-align: middle;\n",
              "    }\n",
              "\n",
              "    .dataframe tbody tr th {\n",
              "        vertical-align: top;\n",
              "    }\n",
              "\n",
              "    .dataframe thead th {\n",
              "        text-align: right;\n",
              "    }\n",
              "</style>\n",
              "<table border=\"1\" class=\"dataframe\">\n",
              "  <thead>\n",
              "    <tr style=\"text-align: right;\">\n",
              "      <th></th>\n",
              "      <th>Item_Identifier</th>\n",
              "      <th>Item_Weight</th>\n",
              "      <th>Item_Fat_Content</th>\n",
              "      <th>Item_Visibility</th>\n",
              "      <th>Item_Type</th>\n",
              "      <th>Item_MRP</th>\n",
              "      <th>Outlet_Identifier</th>\n",
              "      <th>Outlet_Establishment_Year</th>\n",
              "      <th>Outlet_Size</th>\n",
              "      <th>Outlet_Location_Type</th>\n",
              "      <th>Outlet_Type</th>\n",
              "      <th>Item_Outlet_Sales</th>\n",
              "    </tr>\n",
              "  </thead>\n",
              "  <tbody>\n",
              "    <tr>\n",
              "      <th>8518</th>\n",
              "      <td>FDF22</td>\n",
              "      <td>6.865</td>\n",
              "      <td>Low Fat</td>\n",
              "      <td>0.056783</td>\n",
              "      <td>Snack Foods</td>\n",
              "      <td>214.5218</td>\n",
              "      <td>OUT013</td>\n",
              "      <td>1987</td>\n",
              "      <td>High</td>\n",
              "      <td>Tier 3</td>\n",
              "      <td>Supermarket Type1</td>\n",
              "      <td>2778.3834</td>\n",
              "    </tr>\n",
              "    <tr>\n",
              "      <th>8519</th>\n",
              "      <td>FDS36</td>\n",
              "      <td>8.380</td>\n",
              "      <td>Regular</td>\n",
              "      <td>0.046982</td>\n",
              "      <td>Baking Goods</td>\n",
              "      <td>108.1570</td>\n",
              "      <td>OUT045</td>\n",
              "      <td>2002</td>\n",
              "      <td>NaN</td>\n",
              "      <td>Tier 2</td>\n",
              "      <td>Supermarket Type1</td>\n",
              "      <td>549.2850</td>\n",
              "    </tr>\n",
              "    <tr>\n",
              "      <th>8520</th>\n",
              "      <td>NCJ29</td>\n",
              "      <td>10.600</td>\n",
              "      <td>Low Fat</td>\n",
              "      <td>0.035186</td>\n",
              "      <td>Health and Hygiene</td>\n",
              "      <td>85.1224</td>\n",
              "      <td>OUT035</td>\n",
              "      <td>2004</td>\n",
              "      <td>Small</td>\n",
              "      <td>Tier 2</td>\n",
              "      <td>Supermarket Type1</td>\n",
              "      <td>1193.1136</td>\n",
              "    </tr>\n",
              "    <tr>\n",
              "      <th>8521</th>\n",
              "      <td>FDN46</td>\n",
              "      <td>7.210</td>\n",
              "      <td>Regular</td>\n",
              "      <td>0.145221</td>\n",
              "      <td>Snack Foods</td>\n",
              "      <td>103.1332</td>\n",
              "      <td>OUT018</td>\n",
              "      <td>2009</td>\n",
              "      <td>Medium</td>\n",
              "      <td>Tier 3</td>\n",
              "      <td>Supermarket Type2</td>\n",
              "      <td>1845.5976</td>\n",
              "    </tr>\n",
              "    <tr>\n",
              "      <th>8522</th>\n",
              "      <td>DRG01</td>\n",
              "      <td>14.800</td>\n",
              "      <td>Low Fat</td>\n",
              "      <td>0.044878</td>\n",
              "      <td>Soft Drinks</td>\n",
              "      <td>75.4670</td>\n",
              "      <td>OUT046</td>\n",
              "      <td>1997</td>\n",
              "      <td>Small</td>\n",
              "      <td>Tier 1</td>\n",
              "      <td>Supermarket Type1</td>\n",
              "      <td>765.6700</td>\n",
              "    </tr>\n",
              "  </tbody>\n",
              "</table>\n",
              "</div>\n",
              "      <button class=\"colab-df-convert\" onclick=\"convertToInteractive('df-773aae32-5a9a-41ff-86f2-a376397db82e')\"\n",
              "              title=\"Convert this dataframe to an interactive table.\"\n",
              "              style=\"display:none;\">\n",
              "        \n",
              "  <svg xmlns=\"http://www.w3.org/2000/svg\" height=\"24px\"viewBox=\"0 0 24 24\"\n",
              "       width=\"24px\">\n",
              "    <path d=\"M0 0h24v24H0V0z\" fill=\"none\"/>\n",
              "    <path d=\"M18.56 5.44l.94 2.06.94-2.06 2.06-.94-2.06-.94-.94-2.06-.94 2.06-2.06.94zm-11 1L8.5 8.5l.94-2.06 2.06-.94-2.06-.94L8.5 2.5l-.94 2.06-2.06.94zm10 10l.94 2.06.94-2.06 2.06-.94-2.06-.94-.94-2.06-.94 2.06-2.06.94z\"/><path d=\"M17.41 7.96l-1.37-1.37c-.4-.4-.92-.59-1.43-.59-.52 0-1.04.2-1.43.59L10.3 9.45l-7.72 7.72c-.78.78-.78 2.05 0 2.83L4 21.41c.39.39.9.59 1.41.59.51 0 1.02-.2 1.41-.59l7.78-7.78 2.81-2.81c.8-.78.8-2.07 0-2.86zM5.41 20L4 18.59l7.72-7.72 1.47 1.35L5.41 20z\"/>\n",
              "  </svg>\n",
              "      </button>\n",
              "      \n",
              "  <style>\n",
              "    .colab-df-container {\n",
              "      display:flex;\n",
              "      flex-wrap:wrap;\n",
              "      gap: 12px;\n",
              "    }\n",
              "\n",
              "    .colab-df-convert {\n",
              "      background-color: #E8F0FE;\n",
              "      border: none;\n",
              "      border-radius: 50%;\n",
              "      cursor: pointer;\n",
              "      display: none;\n",
              "      fill: #1967D2;\n",
              "      height: 32px;\n",
              "      padding: 0 0 0 0;\n",
              "      width: 32px;\n",
              "    }\n",
              "\n",
              "    .colab-df-convert:hover {\n",
              "      background-color: #E2EBFA;\n",
              "      box-shadow: 0px 1px 2px rgba(60, 64, 67, 0.3), 0px 1px 3px 1px rgba(60, 64, 67, 0.15);\n",
              "      fill: #174EA6;\n",
              "    }\n",
              "\n",
              "    [theme=dark] .colab-df-convert {\n",
              "      background-color: #3B4455;\n",
              "      fill: #D2E3FC;\n",
              "    }\n",
              "\n",
              "    [theme=dark] .colab-df-convert:hover {\n",
              "      background-color: #434B5C;\n",
              "      box-shadow: 0px 1px 3px 1px rgba(0, 0, 0, 0.15);\n",
              "      filter: drop-shadow(0px 1px 2px rgba(0, 0, 0, 0.3));\n",
              "      fill: #FFFFFF;\n",
              "    }\n",
              "  </style>\n",
              "\n",
              "      <script>\n",
              "        const buttonEl =\n",
              "          document.querySelector('#df-773aae32-5a9a-41ff-86f2-a376397db82e button.colab-df-convert');\n",
              "        buttonEl.style.display =\n",
              "          google.colab.kernel.accessAllowed ? 'block' : 'none';\n",
              "\n",
              "        async function convertToInteractive(key) {\n",
              "          const element = document.querySelector('#df-773aae32-5a9a-41ff-86f2-a376397db82e');\n",
              "          const dataTable =\n",
              "            await google.colab.kernel.invokeFunction('convertToInteractive',\n",
              "                                                     [key], {});\n",
              "          if (!dataTable) return;\n",
              "\n",
              "          const docLinkHtml = 'Like what you see? Visit the ' +\n",
              "            '<a target=\"_blank\" href=https://colab.research.google.com/notebooks/data_table.ipynb>data table notebook</a>'\n",
              "            + ' to learn more about interactive tables.';\n",
              "          element.innerHTML = '';\n",
              "          dataTable['output_type'] = 'display_data';\n",
              "          await google.colab.output.renderOutput(dataTable, element);\n",
              "          const docLink = document.createElement('div');\n",
              "          docLink.innerHTML = docLinkHtml;\n",
              "          element.appendChild(docLink);\n",
              "        }\n",
              "      </script>\n",
              "    </div>\n",
              "  </div>\n",
              "  "
            ]
          },
          "metadata": {},
          "execution_count": 7
        }
      ]
    },
    {
      "cell_type": "markdown",
      "source": [
        "#### **df.info()**"
      ],
      "metadata": {
        "id": "ig-8CJu0piPC"
      }
    },
    {
      "cell_type": "code",
      "execution_count": null,
      "metadata": {
        "colab": {
          "base_uri": "https://localhost:8080/"
        },
        "id": "j60snx80dwu_",
        "outputId": "ea12e530-36ef-4247-e114-995f2f280825"
      },
      "outputs": [
        {
          "output_type": "stream",
          "name": "stdout",
          "text": [
            "<class 'pandas.core.frame.DataFrame'>\n",
            "RangeIndex: 8523 entries, 0 to 8522\n",
            "Data columns (total 12 columns):\n",
            " #   Column                     Non-Null Count  Dtype  \n",
            "---  ------                     --------------  -----  \n",
            " 0   Item_Identifier            8523 non-null   object \n",
            " 1   Item_Weight                7060 non-null   float64\n",
            " 2   Item_Fat_Content           8523 non-null   object \n",
            " 3   Item_Visibility            8523 non-null   float64\n",
            " 4   Item_Type                  8523 non-null   object \n",
            " 5   Item_MRP                   8523 non-null   float64\n",
            " 6   Outlet_Identifier          8523 non-null   object \n",
            " 7   Outlet_Establishment_Year  8523 non-null   int64  \n",
            " 8   Outlet_Size                6113 non-null   object \n",
            " 9   Outlet_Location_Type       8523 non-null   object \n",
            " 10  Outlet_Type                8523 non-null   object \n",
            " 11  Item_Outlet_Sales          8523 non-null   float64\n",
            "dtypes: float64(4), int64(1), object(7)\n",
            "memory usage: 799.2+ KB\n"
          ]
        }
      ],
      "source": [
        "## Display the column names, count of non-null values, and their datatypes\n",
        "df.info()"
      ]
    },
    {
      "cell_type": "markdown",
      "source": [
        "- Data appears to have successfully loaded.\n",
        "- All of the columns are visible. The default display options are sufficient."
      ],
      "metadata": {
        "id": "17tL9HFSm8aW"
      }
    },
    {
      "cell_type": "markdown",
      "source": [
        "#### **.shape()**"
      ],
      "metadata": {
        "id": "aRtsbbzlQP24"
      }
    },
    {
      "cell_type": "code",
      "source": [
        "## Display the number of rows and columns for the dataframe\n",
        "df.shape\n",
        "print(f'There are {df.shape[0]} rows, and {df.shape[1]} columns.')\n",
        "print(f'The rows represent {df.shape[0]} observations, and the columns represent {df.shape[1]-1} features and 1 target variable to predict.')"
      ],
      "metadata": {
        "colab": {
          "base_uri": "https://localhost:8080/"
        },
        "id": "HiZwdOaQQu6C",
        "outputId": "fcbf7758-abf5-47bf-9e30-d3135c64321e"
      },
      "execution_count": null,
      "outputs": [
        {
          "output_type": "stream",
          "name": "stdout",
          "text": [
            "There are 8523 rows, and 12 columns.\n",
            "The rows represent 8523 observations, and the columns represent 11 features and 1 target variable to predict.\n"
          ]
        }
      ]
    },
    {
      "cell_type": "markdown",
      "source": [
        "#### **.dtypes**"
      ],
      "metadata": {
        "id": "47JZnm11X2I2"
      }
    },
    {
      "cell_type": "code",
      "source": [
        "## Display the column names and datatypes for each column\n",
        "## Columns with mixed datatypes are identified as an object datatype\n",
        "df.dtypes"
      ],
      "metadata": {
        "colab": {
          "base_uri": "https://localhost:8080/"
        },
        "id": "d1j0gMdyYD8O",
        "outputId": "6422094b-9a7a-4b29-ee92-c33d7f28e30d"
      },
      "execution_count": null,
      "outputs": [
        {
          "output_type": "execute_result",
          "data": {
            "text/plain": [
              "Item_Identifier               object\n",
              "Item_Weight                  float64\n",
              "Item_Fat_Content              object\n",
              "Item_Visibility              float64\n",
              "Item_Type                     object\n",
              "Item_MRP                     float64\n",
              "Outlet_Identifier             object\n",
              "Outlet_Establishment_Year      int64\n",
              "Outlet_Size                   object\n",
              "Outlet_Location_Type          object\n",
              "Outlet_Type                   object\n",
              "Item_Outlet_Sales            float64\n",
              "dtype: object"
            ]
          },
          "metadata": {},
          "execution_count": 11
        }
      ]
    },
    {
      "cell_type": "markdown",
      "source": [
        "#### **.describe()**"
      ],
      "metadata": {
        "id": "MLJ0pEWpXqnw"
      }
    },
    {
      "cell_type": "code",
      "source": [
        "## Display the descriptive statistics for the numeric columns\n",
        "## Using include=\"number\"\n",
        "df.describe(include=\"number\")"
      ],
      "metadata": {
        "id": "wiKHvHzRRjNi"
      },
      "execution_count": null,
      "outputs": []
    },
    {
      "cell_type": "markdown",
      "metadata": {
        "id": "a8wEulZ-uoJu"
      },
      "source": [
        "### **Missing Values**\n",
        "Checking for missing values"
      ]
    },
    {
      "cell_type": "markdown",
      "source": [
        "##  **Phase 2. Data Understanding**\n",
        "- *What data do we have/need, and is it clean?*\n",
        "\n"
      ],
      "metadata": {
        "id": "JKYoySWCrfNt"
      }
    },
    {
      "cell_type": "markdown",
      "source": [],
      "metadata": {
        "id": "xynesaBxXNP0"
      }
    },
    {
      "cell_type": "markdown",
      "metadata": {
        "id": "40Of-YoLvAtv"
      },
      "source": [
        "Identifying number of missing data:"
      ]
    },
    {
      "cell_type": "code",
      "source": [
        "null_sums = df.isna().sum()\n",
        "print(null_sums)"
      ],
      "metadata": {
        "colab": {
          "base_uri": "https://localhost:8080/"
        },
        "id": "dRNvsWknTv3Z",
        "outputId": "6ba97f69-8490-4475-a950-b69d20f13df0"
      },
      "execution_count": null,
      "outputs": [
        {
          "output_type": "stream",
          "name": "stdout",
          "text": [
            "Item_Identifier                 0\n",
            "Item_Weight                  1463\n",
            "Item_Fat_Content                0\n",
            "Item_Visibility                 0\n",
            "Item_Type                       0\n",
            "Item_MRP                        0\n",
            "Outlet_Identifier               0\n",
            "Outlet_Establishment_Year       0\n",
            "Outlet_Size                  2410\n",
            "Outlet_Location_Type            0\n",
            "Outlet_Type                     0\n",
            "Item_Outlet_Sales               0\n",
            "dtype: int64\n"
          ]
        }
      ]
    },
    {
      "cell_type": "markdown",
      "source": [
        "Identifying percent of missing data:"
      ],
      "metadata": {
        "id": "dwJh0ZnUUvfk"
      }
    },
    {
      "cell_type": "code",
      "execution_count": null,
      "metadata": {
        "colab": {
          "base_uri": "https://localhost:8080/"
        },
        "id": "fcKL6aJLuvnb",
        "outputId": "4affe2cf-869b-4f3a-9000-5cfa8523493e"
      },
      "outputs": [
        {
          "output_type": "stream",
          "name": "stdout",
          "text": [
            "Item_Weight    17.165317\n",
            "Outlet_Size    28.276428\n",
            "dtype: float64\n"
          ]
        }
      ],
      "source": [
        "null_percent = null_sums/len(df) * 100\n",
        "null_percent\n",
        "print(null_percent[null_percent>0])\n"
      ]
    },
    {
      "cell_type": "markdown",
      "source": [
        "Using filters to inspect missing data.\n",
        "\n"
      ],
      "metadata": {
        "id": "oTgbxJU-dtsA"
      }
    },
    {
      "cell_type": "code",
      "source": [
        "null_Item_Weight = df['Item_Weight'].isna()\n",
        "null_Item_Weight"
      ],
      "metadata": {
        "colab": {
          "base_uri": "https://localhost:8080/"
        },
        "id": "kWIUXrmBdrTU",
        "outputId": "627665fb-a32e-45b4-c83b-15db09020753"
      },
      "execution_count": null,
      "outputs": [
        {
          "output_type": "execute_result",
          "data": {
            "text/plain": [
              "0       False\n",
              "1       False\n",
              "2       False\n",
              "3       False\n",
              "4       False\n",
              "        ...  \n",
              "8518    False\n",
              "8519    False\n",
              "8520    False\n",
              "8521    False\n",
              "8522    False\n",
              "Name: Item_Weight, Length: 8523, dtype: bool"
            ]
          },
          "metadata": {},
          "execution_count": 67
        }
      ]
    },
    {
      "cell_type": "code",
      "source": [
        "df[null_Item_Weight]\n"
      ],
      "metadata": {
        "colab": {
          "base_uri": "https://localhost:8080/",
          "height": 644
        },
        "id": "m5Y7HZBDeWM5",
        "outputId": "a951cdf0-d18b-486b-c093-085514ef39d9"
      },
      "execution_count": null,
      "outputs": [
        {
          "output_type": "execute_result",
          "data": {
            "text/plain": [
              "     Item_Identifier  Item_Weight Item_Fat_Content  Item_Visibility  \\\n",
              "7              FDP10          NaN          Low Fat         0.127470   \n",
              "18             DRI11          NaN          Low Fat         0.034238   \n",
              "21             FDW12          NaN          Regular         0.035400   \n",
              "23             FDC37          NaN          Low Fat         0.057557   \n",
              "29             FDC14          NaN          Regular         0.072222   \n",
              "...              ...          ...              ...              ...   \n",
              "8485           DRK37          NaN          Low Fat         0.043792   \n",
              "8487           DRG13          NaN          Low Fat         0.037006   \n",
              "8488           NCN14          NaN          Low Fat         0.091473   \n",
              "8490           FDU44          NaN          Regular         0.102296   \n",
              "8504           NCN18          NaN          Low Fat         0.124111   \n",
              "\n",
              "                  Item_Type  Item_MRP Outlet_Identifier  \\\n",
              "7               Snack Foods  107.7622            OUT027   \n",
              "18              Hard Drinks  113.2834            OUT027   \n",
              "21             Baking Goods  144.5444            OUT027   \n",
              "23             Baking Goods  107.6938            OUT019   \n",
              "29                   Canned   43.6454            OUT019   \n",
              "...                     ...       ...               ...   \n",
              "8485            Soft Drinks  189.0530            OUT027   \n",
              "8487            Soft Drinks  164.7526            OUT027   \n",
              "8488                 Others  184.6608            OUT027   \n",
              "8490  Fruits and Vegetables  162.3552            OUT019   \n",
              "8504              Household  111.7544            OUT027   \n",
              "\n",
              "      Outlet_Establishment_Year Outlet_Size Outlet_Location_Type  \\\n",
              "7                          1985      Medium               Tier 3   \n",
              "18                         1985      Medium               Tier 3   \n",
              "21                         1985      Medium               Tier 3   \n",
              "23                         1985       Small               Tier 1   \n",
              "29                         1985       Small               Tier 1   \n",
              "...                         ...         ...                  ...   \n",
              "8485                       1985      Medium               Tier 3   \n",
              "8487                       1985      Medium               Tier 3   \n",
              "8488                       1985      Medium               Tier 3   \n",
              "8490                       1985       Small               Tier 1   \n",
              "8504                       1985      Medium               Tier 3   \n",
              "\n",
              "            Outlet_Type  Item_Outlet_Sales  \n",
              "7     Supermarket Type3          4022.7636  \n",
              "18    Supermarket Type3          2303.6680  \n",
              "21    Supermarket Type3          4064.0432  \n",
              "23        Grocery Store           214.3876  \n",
              "29        Grocery Store           125.8362  \n",
              "...                 ...                ...  \n",
              "8485  Supermarket Type3          6261.8490  \n",
              "8487  Supermarket Type3          4111.3150  \n",
              "8488  Supermarket Type3          2756.4120  \n",
              "8490      Grocery Store           487.3656  \n",
              "8504  Supermarket Type3          4138.6128  \n",
              "\n",
              "[1463 rows x 12 columns]"
            ],
            "text/html": [
              "\n",
              "  <div id=\"df-ef929ee7-8a54-42dc-a868-4bde1eb842ce\">\n",
              "    <div class=\"colab-df-container\">\n",
              "      <div>\n",
              "<style scoped>\n",
              "    .dataframe tbody tr th:only-of-type {\n",
              "        vertical-align: middle;\n",
              "    }\n",
              "\n",
              "    .dataframe tbody tr th {\n",
              "        vertical-align: top;\n",
              "    }\n",
              "\n",
              "    .dataframe thead th {\n",
              "        text-align: right;\n",
              "    }\n",
              "</style>\n",
              "<table border=\"1\" class=\"dataframe\">\n",
              "  <thead>\n",
              "    <tr style=\"text-align: right;\">\n",
              "      <th></th>\n",
              "      <th>Item_Identifier</th>\n",
              "      <th>Item_Weight</th>\n",
              "      <th>Item_Fat_Content</th>\n",
              "      <th>Item_Visibility</th>\n",
              "      <th>Item_Type</th>\n",
              "      <th>Item_MRP</th>\n",
              "      <th>Outlet_Identifier</th>\n",
              "      <th>Outlet_Establishment_Year</th>\n",
              "      <th>Outlet_Size</th>\n",
              "      <th>Outlet_Location_Type</th>\n",
              "      <th>Outlet_Type</th>\n",
              "      <th>Item_Outlet_Sales</th>\n",
              "    </tr>\n",
              "  </thead>\n",
              "  <tbody>\n",
              "    <tr>\n",
              "      <th>7</th>\n",
              "      <td>FDP10</td>\n",
              "      <td>NaN</td>\n",
              "      <td>Low Fat</td>\n",
              "      <td>0.127470</td>\n",
              "      <td>Snack Foods</td>\n",
              "      <td>107.7622</td>\n",
              "      <td>OUT027</td>\n",
              "      <td>1985</td>\n",
              "      <td>Medium</td>\n",
              "      <td>Tier 3</td>\n",
              "      <td>Supermarket Type3</td>\n",
              "      <td>4022.7636</td>\n",
              "    </tr>\n",
              "    <tr>\n",
              "      <th>18</th>\n",
              "      <td>DRI11</td>\n",
              "      <td>NaN</td>\n",
              "      <td>Low Fat</td>\n",
              "      <td>0.034238</td>\n",
              "      <td>Hard Drinks</td>\n",
              "      <td>113.2834</td>\n",
              "      <td>OUT027</td>\n",
              "      <td>1985</td>\n",
              "      <td>Medium</td>\n",
              "      <td>Tier 3</td>\n",
              "      <td>Supermarket Type3</td>\n",
              "      <td>2303.6680</td>\n",
              "    </tr>\n",
              "    <tr>\n",
              "      <th>21</th>\n",
              "      <td>FDW12</td>\n",
              "      <td>NaN</td>\n",
              "      <td>Regular</td>\n",
              "      <td>0.035400</td>\n",
              "      <td>Baking Goods</td>\n",
              "      <td>144.5444</td>\n",
              "      <td>OUT027</td>\n",
              "      <td>1985</td>\n",
              "      <td>Medium</td>\n",
              "      <td>Tier 3</td>\n",
              "      <td>Supermarket Type3</td>\n",
              "      <td>4064.0432</td>\n",
              "    </tr>\n",
              "    <tr>\n",
              "      <th>23</th>\n",
              "      <td>FDC37</td>\n",
              "      <td>NaN</td>\n",
              "      <td>Low Fat</td>\n",
              "      <td>0.057557</td>\n",
              "      <td>Baking Goods</td>\n",
              "      <td>107.6938</td>\n",
              "      <td>OUT019</td>\n",
              "      <td>1985</td>\n",
              "      <td>Small</td>\n",
              "      <td>Tier 1</td>\n",
              "      <td>Grocery Store</td>\n",
              "      <td>214.3876</td>\n",
              "    </tr>\n",
              "    <tr>\n",
              "      <th>29</th>\n",
              "      <td>FDC14</td>\n",
              "      <td>NaN</td>\n",
              "      <td>Regular</td>\n",
              "      <td>0.072222</td>\n",
              "      <td>Canned</td>\n",
              "      <td>43.6454</td>\n",
              "      <td>OUT019</td>\n",
              "      <td>1985</td>\n",
              "      <td>Small</td>\n",
              "      <td>Tier 1</td>\n",
              "      <td>Grocery Store</td>\n",
              "      <td>125.8362</td>\n",
              "    </tr>\n",
              "    <tr>\n",
              "      <th>...</th>\n",
              "      <td>...</td>\n",
              "      <td>...</td>\n",
              "      <td>...</td>\n",
              "      <td>...</td>\n",
              "      <td>...</td>\n",
              "      <td>...</td>\n",
              "      <td>...</td>\n",
              "      <td>...</td>\n",
              "      <td>...</td>\n",
              "      <td>...</td>\n",
              "      <td>...</td>\n",
              "      <td>...</td>\n",
              "    </tr>\n",
              "    <tr>\n",
              "      <th>8485</th>\n",
              "      <td>DRK37</td>\n",
              "      <td>NaN</td>\n",
              "      <td>Low Fat</td>\n",
              "      <td>0.043792</td>\n",
              "      <td>Soft Drinks</td>\n",
              "      <td>189.0530</td>\n",
              "      <td>OUT027</td>\n",
              "      <td>1985</td>\n",
              "      <td>Medium</td>\n",
              "      <td>Tier 3</td>\n",
              "      <td>Supermarket Type3</td>\n",
              "      <td>6261.8490</td>\n",
              "    </tr>\n",
              "    <tr>\n",
              "      <th>8487</th>\n",
              "      <td>DRG13</td>\n",
              "      <td>NaN</td>\n",
              "      <td>Low Fat</td>\n",
              "      <td>0.037006</td>\n",
              "      <td>Soft Drinks</td>\n",
              "      <td>164.7526</td>\n",
              "      <td>OUT027</td>\n",
              "      <td>1985</td>\n",
              "      <td>Medium</td>\n",
              "      <td>Tier 3</td>\n",
              "      <td>Supermarket Type3</td>\n",
              "      <td>4111.3150</td>\n",
              "    </tr>\n",
              "    <tr>\n",
              "      <th>8488</th>\n",
              "      <td>NCN14</td>\n",
              "      <td>NaN</td>\n",
              "      <td>Low Fat</td>\n",
              "      <td>0.091473</td>\n",
              "      <td>Others</td>\n",
              "      <td>184.6608</td>\n",
              "      <td>OUT027</td>\n",
              "      <td>1985</td>\n",
              "      <td>Medium</td>\n",
              "      <td>Tier 3</td>\n",
              "      <td>Supermarket Type3</td>\n",
              "      <td>2756.4120</td>\n",
              "    </tr>\n",
              "    <tr>\n",
              "      <th>8490</th>\n",
              "      <td>FDU44</td>\n",
              "      <td>NaN</td>\n",
              "      <td>Regular</td>\n",
              "      <td>0.102296</td>\n",
              "      <td>Fruits and Vegetables</td>\n",
              "      <td>162.3552</td>\n",
              "      <td>OUT019</td>\n",
              "      <td>1985</td>\n",
              "      <td>Small</td>\n",
              "      <td>Tier 1</td>\n",
              "      <td>Grocery Store</td>\n",
              "      <td>487.3656</td>\n",
              "    </tr>\n",
              "    <tr>\n",
              "      <th>8504</th>\n",
              "      <td>NCN18</td>\n",
              "      <td>NaN</td>\n",
              "      <td>Low Fat</td>\n",
              "      <td>0.124111</td>\n",
              "      <td>Household</td>\n",
              "      <td>111.7544</td>\n",
              "      <td>OUT027</td>\n",
              "      <td>1985</td>\n",
              "      <td>Medium</td>\n",
              "      <td>Tier 3</td>\n",
              "      <td>Supermarket Type3</td>\n",
              "      <td>4138.6128</td>\n",
              "    </tr>\n",
              "  </tbody>\n",
              "</table>\n",
              "<p>1463 rows × 12 columns</p>\n",
              "</div>\n",
              "      <button class=\"colab-df-convert\" onclick=\"convertToInteractive('df-ef929ee7-8a54-42dc-a868-4bde1eb842ce')\"\n",
              "              title=\"Convert this dataframe to an interactive table.\"\n",
              "              style=\"display:none;\">\n",
              "        \n",
              "  <svg xmlns=\"http://www.w3.org/2000/svg\" height=\"24px\"viewBox=\"0 0 24 24\"\n",
              "       width=\"24px\">\n",
              "    <path d=\"M0 0h24v24H0V0z\" fill=\"none\"/>\n",
              "    <path d=\"M18.56 5.44l.94 2.06.94-2.06 2.06-.94-2.06-.94-.94-2.06-.94 2.06-2.06.94zm-11 1L8.5 8.5l.94-2.06 2.06-.94-2.06-.94L8.5 2.5l-.94 2.06-2.06.94zm10 10l.94 2.06.94-2.06 2.06-.94-2.06-.94-.94-2.06-.94 2.06-2.06.94z\"/><path d=\"M17.41 7.96l-1.37-1.37c-.4-.4-.92-.59-1.43-.59-.52 0-1.04.2-1.43.59L10.3 9.45l-7.72 7.72c-.78.78-.78 2.05 0 2.83L4 21.41c.39.39.9.59 1.41.59.51 0 1.02-.2 1.41-.59l7.78-7.78 2.81-2.81c.8-.78.8-2.07 0-2.86zM5.41 20L4 18.59l7.72-7.72 1.47 1.35L5.41 20z\"/>\n",
              "  </svg>\n",
              "      </button>\n",
              "      \n",
              "  <style>\n",
              "    .colab-df-container {\n",
              "      display:flex;\n",
              "      flex-wrap:wrap;\n",
              "      gap: 12px;\n",
              "    }\n",
              "\n",
              "    .colab-df-convert {\n",
              "      background-color: #E8F0FE;\n",
              "      border: none;\n",
              "      border-radius: 50%;\n",
              "      cursor: pointer;\n",
              "      display: none;\n",
              "      fill: #1967D2;\n",
              "      height: 32px;\n",
              "      padding: 0 0 0 0;\n",
              "      width: 32px;\n",
              "    }\n",
              "\n",
              "    .colab-df-convert:hover {\n",
              "      background-color: #E2EBFA;\n",
              "      box-shadow: 0px 1px 2px rgba(60, 64, 67, 0.3), 0px 1px 3px 1px rgba(60, 64, 67, 0.15);\n",
              "      fill: #174EA6;\n",
              "    }\n",
              "\n",
              "    [theme=dark] .colab-df-convert {\n",
              "      background-color: #3B4455;\n",
              "      fill: #D2E3FC;\n",
              "    }\n",
              "\n",
              "    [theme=dark] .colab-df-convert:hover {\n",
              "      background-color: #434B5C;\n",
              "      box-shadow: 0px 1px 3px 1px rgba(0, 0, 0, 0.15);\n",
              "      filter: drop-shadow(0px 1px 2px rgba(0, 0, 0, 0.3));\n",
              "      fill: #FFFFFF;\n",
              "    }\n",
              "  </style>\n",
              "\n",
              "      <script>\n",
              "        const buttonEl =\n",
              "          document.querySelector('#df-ef929ee7-8a54-42dc-a868-4bde1eb842ce button.colab-df-convert');\n",
              "        buttonEl.style.display =\n",
              "          google.colab.kernel.accessAllowed ? 'block' : 'none';\n",
              "\n",
              "        async function convertToInteractive(key) {\n",
              "          const element = document.querySelector('#df-ef929ee7-8a54-42dc-a868-4bde1eb842ce');\n",
              "          const dataTable =\n",
              "            await google.colab.kernel.invokeFunction('convertToInteractive',\n",
              "                                                     [key], {});\n",
              "          if (!dataTable) return;\n",
              "\n",
              "          const docLinkHtml = 'Like what you see? Visit the ' +\n",
              "            '<a target=\"_blank\" href=https://colab.research.google.com/notebooks/data_table.ipynb>data table notebook</a>'\n",
              "            + ' to learn more about interactive tables.';\n",
              "          element.innerHTML = '';\n",
              "          dataTable['output_type'] = 'display_data';\n",
              "          await google.colab.output.renderOutput(dataTable, element);\n",
              "          const docLink = document.createElement('div');\n",
              "          docLink.innerHTML = docLinkHtml;\n",
              "          element.appendChild(docLink);\n",
              "        }\n",
              "      </script>\n",
              "    </div>\n",
              "  </div>\n",
              "  "
            ]
          },
          "metadata": {},
          "execution_count": 68
        }
      ]
    },
    {
      "cell_type": "markdown",
      "source": [
        "## **Phase 3. Data Preparation**\n",
        "\n",
        "- *How do we prepare this data for modeling?*\n"
      ],
      "metadata": {
        "id": "UYmKNw53qtiy"
      }
    },
    {
      "cell_type": "markdown",
      "source": [
        "- Construct Data/Feature Engineerin\n",
        "- Clean the data for modeling.\n",
        "\n"
      ],
      "metadata": {
        "id": "qYZ5wqKxqtYk"
      }
    },
    {
      "cell_type": "markdown",
      "source": [
        "## **Phase 4. Modeling**\n",
        "- *What types of models/techniques should we use?*\n"
      ],
      "metadata": {
        "id": "r8-qYd33qXy-"
      }
    },
    {
      "cell_type": "markdown",
      "source": [
        "- Select which types of models to try and their assumptions.\n",
        "- Set aside some of the data to test the models. (25% saved for testing)\n",
        "- Build and evaluate the Model\n",
        "- Revise and iterate until you reach the stakeholder’s specifications.\n"
      ],
      "metadata": {
        "id": "m6flLLppqYp7"
      }
    },
    {
      "cell_type": "markdown",
      "source": [
        "## **Phase 5. Evaluation (in Business Terms)**\n",
        "- *Which models best meets stakeholder/s needs?*"
      ],
      "metadata": {
        "id": "GCNF0uc7qEpK"
      }
    },
    {
      "cell_type": "markdown",
      "source": [
        "- Which model/result(s) should we provide to our stakeholders?\n",
        "- Do the results meet the stakeholder’s success criteria?\n",
        "- Summarize findings and make a note of anything you would do differently if you had to start the project from the beginning again.\n",
        "\n"
      ],
      "metadata": {
        "id": "srMLZVjIqEQ6"
      }
    },
    {
      "cell_type": "markdown",
      "source": [
        "## **Phase 6. Deployment**\n",
        "- *How do stakeholders receive/access the results?*"
      ],
      "metadata": {
        "id": "KeIBGuxZpmtc"
      }
    },
    {
      "cell_type": "markdown",
      "source": [
        "# **OUTLINE**\n"
      ],
      "metadata": {
        "id": "5nymx7EzPGqD"
      }
    },
    {
      "cell_type": "markdown",
      "source": [
        "\n",
        "<div class=\"ChatMessage_messageWrapper__Zf87D\"><div class=\"Message_row___ur0Y\"><div class=\"Message_botMessageBubble__CPGMI \"><div class=\"Markdown_markdownContainer__UyYrv\"><p>Inspecting the Data Process:</p> \n",
        "<ol>\n",
        "<li>Load the Data:<br>\n",
        "Load the data into a <a class=\" MarkdownLink_linkifiedLink__KxC9G\" node=\"[object Object]\" prompt=\"Tell me more about pandas DataFrame.\">pandas DataFrame</a> for <a class=\" MarkdownLink_linkifiedLink__KxC9G\" node=\"[object Object]\" prompt=\"Tell me more about data manipulation.\">data manipulation</a> and analysis.</li>\n",
        "</ol>\n",
        "<div><div class=\"MarkdownCodeBlock_codeHeader__5MZpO\"><div class=\"MarkdownCodeBlock_languageName__trujB\"></div><button class=\"Button_buttonBase__0QP_m Button_flat__1hj0f MarkdownCodeBlock_copyButton__nm6Dw\"><svg viewBox=\"0 0 24 24\" xmlns=\"http://www.w3.org/2000/svg\"><path d=\"M16.02 20.96H3.78c-.41 0-.75-.34-.75-.75V7.74c0-.41.34-.75.75-.75h7.87c.21 0 .39.08.53.22l4.37 4.37c.14.14.22.32.22.53v8.11c0 .4-.34.74-.75.74ZM4.53 19.47h10.75v-6.61h-3.62c-.41 0-.75-.34-.75-.75V8.48H4.53v10.99Z\"></path><path d=\"m20.74 7.63-4.37-4.37c-.14-.14-.36-.2-.53-.22H8.01c-.41 0-.75.34-.75.75V5.5h1.49v-.97h6.34v3.62c0 .41.34.75.75.75h3.62v8.19h-1.2v1.49h1.95c.41 0 .75-.34.75-.75V8.16c0-.21-.08-.4-.22-.53Z\"></path></svg> Copy</button></div><pre class=\"MarkdownCodeBlock_preTag__dDgT9\" style=\"display: block; overflow-x: auto; background: rgb(43, 43, 43); color: rgb(248, 248, 242); padding: 0.5em;\"><code class=\"MarkdownCodeBlock_codeTag__ipdCC\" style=\"white-space: pre;\"><span style=\"color: rgb(220, 198, 224);\">import</span><span> pandas </span><span style=\"color: rgb(220, 198, 224);\">as</span><span> pd\n",
        "</span>\n",
        "<span></span><span style=\"color: rgb(212, 208, 171);\"># Load the data</span><span>\n",
        "</span><span>url = </span><span style=\"color: rgb(171, 227, 56);\">'https://drive.google.com/file/d/1syH81TVrbBsdymLT_jl2JIf6IjPXtSQw/view'</span><span>\n",
        "</span><span>file_id = url.split(</span><span style=\"color: rgb(171, 227, 56);\">'/'</span><span>)[-</span><span style=\"color: rgb(245, 171, 53);\">2</span><span>]\n",
        "</span><span>download_url = </span><span style=\"color: rgb(171, 227, 56);\">'https://drive.google.com/uc?id='</span><span> + file_id\n",
        "</span>df = pd.read_csv(download_url)\n",
        "\n",
        "<span></span><span style=\"color: rgb(212, 208, 171);\"># Check if the data is loaded successfully</span><span>\n",
        "</span><span></span><span style=\"color: rgb(245, 171, 53);\">print</span><span>(df.head())\n",
        "</span></code></pre></div>\n",
        "<ol start=\"2\">\n",
        "<li>Explore the Data:<br>\n",
        "Get an overview of the data to gain insights about the <a class=\" MarkdownLink_linkifiedLink__KxC9G\" node=\"[object Object]\" prompt=\"Tell me more about data structure.\">data structure</a>, features, and data types.</li>\n",
        "</ol>\n",
        "<div><div class=\"MarkdownCodeBlock_codeHeader__5MZpO\"><div class=\"MarkdownCodeBlock_languageName__trujB\"></div><button class=\"Button_buttonBase__0QP_m Button_flat__1hj0f MarkdownCodeBlock_copyButton__nm6Dw\"><svg viewBox=\"0 0 24 24\" xmlns=\"http://www.w3.org/2000/svg\"><path d=\"M16.02 20.96H3.78c-.41 0-.75-.34-.75-.75V7.74c0-.41.34-.75.75-.75h7.87c.21 0 .39.08.53.22l4.37 4.37c.14.14.22.32.22.53v8.11c0 .4-.34.74-.75.74ZM4.53 19.47h10.75v-6.61h-3.62c-.41 0-.75-.34-.75-.75V8.48H4.53v10.99Z\"></path><path d=\"m20.74 7.63-4.37-4.37c-.14-.14-.36-.2-.53-.22H8.01c-.41 0-.75.34-.75.75V5.5h1.49v-.97h6.34v3.62c0 .41.34.75.75.75h3.62v8.19h-1.2v1.49h1.95c.41 0 .75-.34.75-.75V8.16c0-.21-.08-.4-.22-.53Z\"></path></svg> Copy</button></div><pre class=\"MarkdownCodeBlock_preTag__dDgT9\" style=\"display: block; overflow-x: auto; background: rgb(43, 43, 43); color: rgb(248, 248, 242); padding: 0.5em;\"><code class=\"MarkdownCodeBlock_codeTag__ipdCC\" style=\"white-space: pre;\"><span style=\"color: rgb(212, 208, 171);\"># Check the shape of the data</span><span>\n",
        "</span><span></span><span style=\"color: rgb(245, 171, 53);\">print</span><span>(df.shape)\n",
        "</span>\n",
        "<span></span><span style=\"color: rgb(212, 208, 171);\"># Check the data types of each column</span><span>\n",
        "</span><span></span><span style=\"color: rgb(245, 171, 53);\">print</span><span>(df.dtypes)\n",
        "</span>\n",
        "<span></span><span style=\"color: rgb(212, 208, 171);\"># Check the summary statistics of the data</span><span>\n",
        "</span><span></span><span style=\"color: rgb(245, 171, 53);\">print</span><span>(df.describe(include=</span><span style=\"color: rgb(171, 227, 56);\">'all'</span><span>))\n",
        "</span>\n",
        "<span></span><span style=\"color: rgb(212, 208, 171);\"># Check the missing values in the data</span><span>\n",
        "</span><span></span><span style=\"color: rgb(245, 171, 53);\">print</span><span>(df.isna().</span><span style=\"color: rgb(245, 171, 53);\">sum</span><span>())\n",
        "</span></code></pre></div>\n",
        "<ol start=\"3\">\n",
        "<li>Analyze the Data:<br>\n",
        "Analyze the data to identify patterns, trends, relationships, and anomalies.</li>\n",
        "</ol>\n",
        "<div><div class=\"MarkdownCodeBlock_codeHeader__5MZpO\"><div class=\"MarkdownCodeBlock_languageName__trujB\"></div><button class=\"Button_buttonBase__0QP_m Button_flat__1hj0f MarkdownCodeBlock_copyButton__nm6Dw\"><svg viewBox=\"0 0 24 24\" xmlns=\"http://www.w3.org/2000/svg\"><path d=\"M16.02 20.96H3.78c-.41 0-.75-.34-.75-.75V7.74c0-.41.34-.75.75-.75h7.87c.21 0 .39.08.53.22l4.37 4.37c.14.14.22.32.22.53v8.11c0 .4-.34.74-.75.74ZM4.53 19.47h10.75v-6.61h-3.62c-.41 0-.75-.34-.75-.75V8.48H4.53v10.99Z\"></path><path d=\"m20.74 7.63-4.37-4.37c-.14-.14-.36-.2-.53-.22H8.01c-.41 0-.75.34-.75.75V5.5h1.49v-.97h6.34v3.62c0 .41.34.75.75.75h3.62v8.19h-1.2v1.49h1.95c.41 0 .75-.34.75-.75V8.16c0-.21-.08-.4-.22-.53Z\"></path></svg> Copy</button></div><pre class=\"MarkdownCodeBlock_preTag__dDgT9\" style=\"display: block; overflow-x: auto; background: rgb(43, 43, 43); color: rgb(248, 248, 242); padding: 0.5em;\"><code class=\"MarkdownCodeBlock_codeTag__ipdCC\" style=\"white-space: pre;\"><span style=\"color: rgb(212, 208, 171);\"># Check the unique values of each categorical column</span><span>\n",
        "</span><span></span><span style=\"color: rgb(220, 198, 224);\">for</span><span> col </span><span style=\"color: rgb(220, 198, 224);\">in</span><span> df.select_dtypes(include=</span><span style=\"color: rgb(171, 227, 56);\">'object'</span><span>):\n",
        "</span><span>    </span><span style=\"color: rgb(245, 171, 53);\">print</span><span>(col.upper(), df[col].unique())\n",
        "</span>\n",
        "<span></span><span style=\"color: rgb(212, 208, 171);\"># Check the distribution of numeric columns</span><span>\n",
        "</span><span></span><span style=\"color: rgb(220, 198, 224);\">import</span><span> matplotlib.pyplot </span><span style=\"color: rgb(220, 198, 224);\">as</span><span> plt\n",
        "</span><span></span><span style=\"color: rgb(220, 198, 224);\">import</span><span> seaborn </span><span style=\"color: rgb(220, 198, 224);\">as</span><span> sns\n",
        "</span>\n",
        "<span>sns.displot(df[</span><span style=\"color: rgb(171, 227, 56);\">'Item_Outlet_Sales'</span><span>])\n",
        "</span>plt.show()\n",
        "\n",
        "<span></span><span style=\"color: rgb(212, 208, 171);\"># Check the correlation between numeric columns</span><span>\n",
        "</span><span>sns.heatmap(df.corr(), annot=</span><span style=\"color: rgb(245, 171, 53);\">True</span><span>)\n",
        "</span>plt.show()\n",
        "</code></pre></div>\n",
        "<p>Cleaning the Data:</p>\n",
        "<ol>\n",
        "<li>Handle Missing Values:<br>\n",
        "Missing values in data can lead to biased or <a class=\" MarkdownLink_linkifiedLink__KxC9G\" node=\"[object Object]\" prompt=\"Tell me more about incorrect analysis.\">incorrect analysis</a>. We need to decide whether to remove or replace <a class=\" MarkdownLink_linkifiedLink__KxC9G\" node=\"[object Object]\" prompt=\"Tell me more about missing values.\">missing values</a> based on the amount and nature of <a class=\" MarkdownLink_linkifiedLink__KxC9G\" node=\"[object Object]\" prompt=\"Tell me more about missing data.\">missing data</a>.</li>\n",
        "</ol>\n",
        "<div><div class=\"MarkdownCodeBlock_codeHeader__5MZpO\"><div class=\"MarkdownCodeBlock_languageName__trujB\"></div><button class=\"Button_buttonBase__0QP_m Button_flat__1hj0f MarkdownCodeBlock_copyButton__nm6Dw\"><svg viewBox=\"0 0 24 24\" xmlns=\"http://www.w3.org/2000/svg\"><path d=\"M16.02 20.96H3.78c-.41 0-.75-.34-.75-.75V7.74c0-.41.34-.75.75-.75h7.87c.21 0 .39.08.53.22l4.37 4.37c.14.14.22.32.22.53v8.11c0 .4-.34.74-.75.74ZM4.53 19.47h10.75v-6.61h-3.62c-.41 0-.75-.34-.75-.75V8.48H4.53v10.99Z\"></path><path d=\"m20.74 7.63-4.37-4.37c-.14-.14-.36-.2-.53-.22H8.01c-.41 0-.75.34-.75.75V5.5h1.49v-.97h6.34v3.62c0 .41.34.75.75.75h3.62v8.19h-1.2v1.49h1.95c.41 0 .75-.34.75-.75V8.16c0-.21-.08-.4-.22-.53Z\"></path></svg> Copy</button></div><pre class=\"MarkdownCodeBlock_preTag__dDgT9\" style=\"display: block; overflow-x: auto; background: rgb(43, 43, 43); color: rgb(248, 248, 242); padding: 0.5em;\"><code class=\"MarkdownCodeBlock_codeTag__ipdCC\" style=\"white-space: pre;\"><span style=\"color: rgb(212, 208, 171);\"># Check the missing values in the data</span><span>\n",
        "</span><span></span><span style=\"color: rgb(245, 171, 53);\">print</span><span>(df.isna().</span><span style=\"color: rgb(245, 171, 53);\">sum</span><span>())\n",
        "</span>\n",
        "<span></span><span style=\"color: rgb(212, 208, 171);\"># Drop the rows with missing values for 'Item_Weight' and 'Outlet_Size'</span><span>\n",
        "</span><span>df.dropna(subset=[</span><span style=\"color: rgb(171, 227, 56);\">'Item_Weight'</span><span>, </span><span style=\"color: rgb(171, 227, 56);\">'Outlet_Size'</span><span>], inplace=</span><span style=\"color: rgb(245, 171, 53);\">True</span><span>)\n",
        "</span>\n",
        "<span></span><span style=\"color: rgb(212, 208, 171);\"># Fill the missing values of 'Item_Fat_Content' with the mode</span><span>\n",
        "</span><span>df[</span><span style=\"color: rgb(171, 227, 56);\">'Item_Fat_Content'</span><span>].fillna(df[</span><span style=\"color: rgb(171, 227, 56);\">'Item_Fat_Content'</span><span>].mode()[</span><span style=\"color: rgb(245, 171, 53);\">0</span><span>], inplace=</span><span style=\"color: rgb(245, 171, 53);\">True</span><span>)\n",
        "</span>\n",
        "<span></span><span style=\"color: rgb(212, 208, 171);\"># Fill the missing values of 'Outlet_Location_Type' with the mode</span><span>\n",
        "</span><span>df[</span><span style=\"color: rgb(171, 227, 56);\">'Outlet_Location_Type'</span><span>].fillna(df[</span><span style=\"color: rgb(171, 227, 56);\">'Outlet_Location_Type'</span><span>].mode()[</span><span style=\"color: rgb(245, 171, 53);\">0</span><span>], inplace=</span><span style=\"color: rgb(245, 171, 53);\">True</span><span>)\n",
        "</span>\n",
        "<span></span><span style=\"color: rgb(212, 208, 171);\"># Fill the missing values of 'Outlet_Type' with the mode</span><span>\n",
        "</span><span>df[</span><span style=\"color: rgb(171, 227, 56);\">'Outlet_Type'</span><span>].fillna(df[</span><span style=\"color: rgb(171, 227, 56);\">'Outlet_Type'</span><span>].mode()[</span><span style=\"color: rgb(245, 171, 53);\">0</span><span>], inplace=</span><span style=\"color: rgb(245, 171, 53);\">True</span><span>)\n",
        "</span>\n",
        "<span></span><span style=\"color: rgb(212, 208, 171);\"># Confirm if there are no missing values</span><span>\n",
        "</span><span></span><span style=\"color: rgb(245, 171, 53);\">print</span><span>(df.isna().</span><span style=\"color: rgb(245, 171, 53);\">sum</span><span>())\n",
        "</span></code></pre></div>\n",
        "<ol start=\"2\">\n",
        "<li>Handle Duplicates:<br>\n",
        "Duplicated data can lead to biased or incorrect analysis. We need to remove the duplicated data to ensure data integrity.</li>\n",
        "</ol>\n",
        "<div><div class=\"MarkdownCodeBlock_codeHeader__5MZpO\"><div class=\"MarkdownCodeBlock_languageName__trujB\"></div><button class=\"Button_buttonBase__0QP_m Button_flat__1hj0f MarkdownCodeBlock_copyButton__nm6Dw\"><svg viewBox=\"0 0 24 24\" xmlns=\"http://www.w3.org/2000/svg\"><path d=\"M16.02 20.96H3.78c-.41 0-.75-.34-.75-.75V7.74c0-.41.34-.75.75-.75h7.87c.21 0 .39.08.53.22l4.37 4.37c.14.14.22.32.22.53v8.11c0 .4-.34.74-.75.74ZM4.53 19.47h10.75v-6.61h-3.62c-.41 0-.75-.34-.75-.75V8.48H4.53v10.99Z\"></path><path d=\"m20.74 7.63-4.37-4.37c-.14-.14-.36-.2-.53-.22H8.01c-.41 0-.75.34-.75.75V5.5h1.49v-.97h6.34v3.62c0 .41.34.75.75.75h3.62v8.19h-1.2v1.49h1.95c.41 0 .75-.34.75-.75V8.16c0-.21-.08-.4-.22-.53Z\"></path></svg> Copy</button></div><pre class=\"MarkdownCodeBlock_preTag__dDgT9\" style=\"display: block; overflow-x: auto; background: rgb(43, 43, 43); color: rgb(248, 248, 242); padding: 0.5em;\"><code class=\"MarkdownCodeBlock_codeTag__ipdCC\" style=\"white-space: pre;\"><span style=\"color: rgb(212, 208, 171);\"># Check for duplicate rows</span><span>\n",
        "</span><span></span><span style=\"color: rgb(245, 171, 53);\">print</span><span>(df.duplicated().</span><span style=\"color: rgb(245, 171, 53);\">sum</span><span>())\n",
        "</span>\n",
        "<span></span><span style=\"color: rgb(212, 208, 171);\"># Drop the duplicate rows</span><span>\n",
        "</span><span>df.drop_duplicates(inplace=</span><span style=\"color: rgb(245, 171, 53);\">True</span><span>)\n",
        "</span>\n",
        "<span></span><span style=\"color: rgb(212, 208, 171);\"># Confirm if there are no duplicate rows</span><span>\n",
        "</span><span></span><span style=\"color: rgb(245, 171, 53);\">print</span><span>(df.duplicated().</span><span style=\"color: rgb(245, 171, 53);\">sum</span><span>())\n",
        "</span></code></pre></div>\n",
        "<ol start=\"3\">\n",
        "<li>Handle Outliers:<br>\n",
        "Outliers can distort the analysis and affect the accuracy of the predictive model. We need to identify and remove the <a class=\" MarkdownLink_linkifiedLink__KxC9G\" node=\"[object Object]\" prompt=\"Tell me more about outliers.\">outliers</a> based on the <a class=\" MarkdownLink_linkifiedLink__KxC9G\" node=\"[object Object]\" prompt=\"Tell me more about domain knowledge.\">domain knowledge</a> and <a class=\" MarkdownLink_linkifiedLink__KxC9G\" node=\"[object Object]\" prompt=\"Tell me more about statistical methods.\">statistical methods</a>.</li>\n",
        "</ol>\n",
        "<div><div class=\"MarkdownCodeBlock_codeHeader__5MZpO\"><div class=\"MarkdownCodeBlock_languageName__trujB\"></div><button class=\"Button_buttonBase__0QP_m Button_flat__1hj0f MarkdownCodeBlock_copyButton__nm6Dw\"><svg viewBox=\"0 0 24 24\" xmlns=\"http://www.w3.org/2000/svg\"><path d=\"M16.02 20.96H3.78c-.41 0-.75-.34-.75-.75V7.74c0-.41.34-.75.75-.75h7.87c.21 0 .39.08.53.22l4.37 4.37c.14.14.22.32.22.53v8.11c0 .4-.34.74-.75.74ZM4.53 19.47h10.75v-6.61h-3.62c-.41 0-.75-.34-.75-.75V8.48H4.53v10.99Z\"></path><path d=\"m20.74 7.63-4.37-4.37c-.14-.14-.36-.2-.53-.22H8.01c-.41 0-.75.34-.75.75V5.5h1.49v-.97h6.34v3.62c0 .41.34.75.75.75h3.62v8.19h-1.2v1.49h1.95c.41 0 .75-.34.75-.75V8.16c0-.21-.08-.4-.22-.53Z\"></path></svg> Copy</button></div><pre class=\"MarkdownCodeBlock_preTag__dDgT9\" style=\"display: block; overflow-x: auto; background: rgb(43, 43, 43); color: rgb(248, 248, 242); padding: 0.5em;\"><code class=\"MarkdownCodeBlock_codeTag__ipdCC\" style=\"white-space: pre;\"><span style=\"color: rgb(212, 208, 171);\"># Check for outliers in 'Item_Weight' using boxplot</span><span>\n",
        "</span><span>sns.boxplot(df[</span><span style=\"color: rgb(171, 227, 56);\">'Item_Weight'</span><span>])\n",
        "</span>plt.show()\n",
        "\n",
        "<span></span><span style=\"color: rgb(212, 208, 171);\"># Check for outliers in 'Item_Visibility' using boxplot</span><span>\n",
        "</span><span>sns.boxplot(df[</span><span style=\"color: rgb(171, 227, 56);\">'Item_Visibility'</span><span>])\n",
        "</span>plt.show()\n",
        "\n",
        "<span></span><span style=\"color: rgb(212, 208, 171);\"># Check for outliers in 'Item_MRP' using boxplot</span><span>\n",
        "</span><span>sns.boxplot(df[</span><span style=\"color: rgb(171, 227, 56);\">'Item_MRP'</span><span>])\n",
        "</span>plt.show()\n",
        "\n",
        "<span></span><span style=\"color: rgb(212, 208, 171);\"># Check for outliers in 'Item_Outlet_Sales' using boxplot</span><span>\n",
        "</span><span>sns.boxplot(df[</span><span style=\"color: rgb(171, 227, 56);\">'Item_Outlet_Sales'</span><span>])\n",
        "</span>plt.show()\n",
        "\n",
        "<span></span><span style=\"color: rgb(212, 208, 171);\"># Remove the outliers in 'Item_Visibility'</span><span>\n",
        "</span><span>df = df[df[</span><span style=\"color: rgb(171, 227, 56);\">'Item_Visibility'</span><span>] &lt; </span><span style=\"color: rgb(245, 171, 53);\">0.2</span><span>]\n",
        "</span>\n",
        "<span></span><span style=\"color: rgb(212, 208, 171);\"># Remove the outliers in 'Item_Outlet_Sales'</span><span>\n",
        "</span><span>df = df[df[</span><span style=\"color: rgb(171, 227, 56);\">'Item_Outlet_Sales'</span><span>] &lt; </span><span style=\"color: rgb(245, 171, 53);\">10000</span><span>]\n",
        "</span>\n",
        "<span></span><span style=\"color: rgb(212, 208, 171);\"># Confirm if there are no outliers</span><span>\n",
        "</span><span>sns.boxplot(df[</span><span style=\"color: rgb(171, 227, 56);\">'Item_Outlet_Sales'</span><span>])\n",
        "</span>plt.show()\n",
        "</code></pre></div>\n",
        "<ol start=\"4\">\n",
        "<li>Handle Inconsistent Data:<br>\n",
        "Inconsistent data can lead to biased or incorrect analysis. We need to identify and correct the inconsistent data based on the domain knowledge and <a class=\" MarkdownLink_linkifiedLink__KxC9G\" node=\"[object Object]\" prompt=\"Tell me more about data validation methods.\">data validation methods</a>.</li>\n",
        "</ol>\n",
        "<div><div class=\"MarkdownCodeBlock_codeHeader__5MZpO\"><div class=\"MarkdownCodeBlock_languageName__trujB\"></div><button class=\"Button_buttonBase__0QP_m Button_flat__1hj0f MarkdownCodeBlock_copyButton__nm6Dw\"><svg viewBox=\"0 0 24 24\" xmlns=\"http://www.w3.org/2000/svg\"><path d=\"M16.02 20.96H3.78c-.41 0-.75-.34-.75-.75V7.74c0-.41.34-.75.75-.75h7.87c.21 0 .39.08.53.22l4.37 4.37c.14.14.22.32.22.53v8.11c0 .4-.34.74-.75.74ZM4.53 19.47h10.75v-6.61h-3.62c-.41 0-.75-.34-.75-.75V8.48H4.53v10.99Z\"></path><path d=\"m20.74 7.63-4.37-4.37c-.14-.14-.36-.2-.53-.22H8.01c-.41 0-.75.34-.75.75V5.5h1.49v-.97h6.34v3.62c0 .41.34.75.75.75h3.62v8.19h-1.2v1.49h1.95c.41 0 .75-.34.75-.75V8.16c0-.21-.08-.4-.22-.53Z\"></path></svg> Copy</button></div><pre class=\"MarkdownCodeBlock_preTag__dDgT9\" style=\"display: block; overflow-x: auto; background: rgb(43, 43, 43); color: rgb(248, 248, 242); padding: 0.5em;\"><code class=\"MarkdownCodeBlock_codeTag__ipdCC\" style=\"white-space: pre;\"><span style=\"color: rgb(212, 208, 171);\"># Check the unique values of 'Item_Fat_Content'</span><span>\n",
        "</span><span></span><span style=\"color: rgb(245, 171, 53);\">print</span><span>(df[</span><span style=\"color: rgb(171, 227, 56);\">'Item_Fat_Content'</span><span>].unique())\n",
        "</span>\n",
        "<span></span><span style=\"color: rgb(212, 208, 171);\"># Replace the inconsistent values of 'Item_Fat_Content' with the consistent values</span><span>\n",
        "</span><span>df[</span><span style=\"color: rgb(171, 227, 56);\">'Item_Fat_Content'</span><span>].replace({</span><span style=\"color: rgb(171, 227, 56);\">'LF'</span><span>: </span><span style=\"color: rgb(171, 227, 56);\">'Low Fat'</span><span>, </span><span style=\"color: rgb(171, 227, 56);\">'low fat'</span><span>: </span><span style=\"color: rgb(171, 227, 56);\">'Low Fat'</span><span>, </span><span style=\"color: rgb(171, 227, 56);\">'reg'</span><span>: </span><span style=\"color: rgb(171, 227, 56);\">'Regular'</span><span>}, inplace=</span><span style=\"color: rgb(245, 171, 53);\">True</span><span>)\n",
        "</span>\n",
        "<span></span><span style=\"color: rgb(212, 208, 171);\"># Confirm if there are no inconsistent values</span><span>\n",
        "</span><span></span><span style=\"color: rgb(245, 171, 53);\">print</span><span>(df[</span><span style=\"color: rgb(171, 227, 56);\">'Item_Fat_Content'</span><span>].unique())\n",
        "</span></code></pre></div></div></div><div class=\"Message_expander__DG8OV\"></div></div><div class=\"Message_botOptimisticFooter__aQiG9\"></div></div>"
      ],
      "metadata": {
        "id": "c5LJXiLKPh2M"
      }
    }
  ],
  "metadata": {
    "colab": {
      "provenance": [],
      "toc_visible": true,
      "include_colab_link": true
    },
    "kernelspec": {
      "display_name": "Python 3 (ipykernel)",
      "language": "python",
      "name": "python3"
    },
    "language_info": {
      "codemirror_mode": {
        "name": "ipython",
        "version": 3
      },
      "file_extension": ".py",
      "mimetype": "text/x-python",
      "name": "python",
      "nbconvert_exporter": "python",
      "pygments_lexer": "ipython3",
      "version": "3.8.13"
    },
    "toc": {
      "base_numbering": 1,
      "nav_menu": {},
      "number_sections": true,
      "sideBar": true,
      "skip_h1_title": false,
      "title_cell": "Table of Contents",
      "title_sidebar": "Contents",
      "toc_cell": false,
      "toc_position": {},
      "toc_section_display": true,
      "toc_window_display": false
    }
  },
  "nbformat": 4,
  "nbformat_minor": 0
}