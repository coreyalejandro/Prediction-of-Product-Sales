{
  "nbformat": 4,
  "nbformat_minor": 0,
  "metadata": {
    "colab": {
      "provenance": [],
      "authorship_tag": "ABX9TyMPW3aNxVQ0ZzNjg2Sa34B0",
      "include_colab_link": true
    },
    "kernelspec": {
      "name": "python3",
      "display_name": "Python 3"
    },
    "language_info": {
      "name": "python"
    }
  },
  "cells": [
    {
      "cell_type": "markdown",
      "metadata": {
        "id": "view-in-github",
        "colab_type": "text"
      },
      "source": [
        "<a href=\"https://colab.research.google.com/github/coreyalejandro/Prediction-of-Product-Sales/blob/main/Prediction_of_Product_Sales.ipynb\" target=\"_parent\"><img src=\"https://colab.research.google.com/assets/colab-badge.svg\" alt=\"Open In Colab\"/></a>"
      ]
    },
    {
      "cell_type": "markdown",
      "source": [
        "# **Prediction of Product Sales**"
      ],
      "metadata": {
        "id": "wrj1MyzrIw19"
      }
    },
    {
      "cell_type": "markdown",
      "source": [],
      "metadata": {
        "id": "uIMafEuwMVNv"
      }
    },
    {
      "cell_type": "code",
      "source": [],
      "metadata": {
        "id": "1dPxJP9kMT_M"
      },
      "execution_count": null,
      "outputs": []
    },
    {
      "cell_type": "markdown",
      "source": [
        "## **Project Oveiew**"
      ],
      "metadata": {
        "id": "Cjw0U0GCJY1H"
      }
    },
    {
      "cell_type": "code",
      "source": [],
      "metadata": {
        "id": "2YXtR0JNJccZ"
      },
      "execution_count": null,
      "outputs": []
    },
    {
      "cell_type": "markdown",
      "source": [
        "## **Load and Inspect Data**\n"
      ],
      "metadata": {
        "id": "w2ngU5m2I7ce"
      }
    },
    {
      "cell_type": "code",
      "source": [],
      "metadata": {
        "id": "Px_t3aRXJkPH"
      },
      "execution_count": null,
      "outputs": []
    },
    {
      "cell_type": "markdown",
      "source": [
        "## **Clean Data**"
      ],
      "metadata": {
        "id": "eOBONWWUJIDL"
      }
    },
    {
      "cell_type": "code",
      "source": [],
      "metadata": {
        "id": "wF5Pgx64J2YD"
      },
      "execution_count": null,
      "outputs": []
    },
    {
      "cell_type": "markdown",
      "source": [
        "## **Exploratory Data Analysis**"
      ],
      "metadata": {
        "id": "xu8kOXWEJ3DR"
      }
    },
    {
      "cell_type": "code",
      "source": [],
      "metadata": {
        "id": "mff-4D4vJ_HQ"
      },
      "execution_count": null,
      "outputs": []
    },
    {
      "cell_type": "markdown",
      "source": [
        "## **Explanatory Data Analysis**"
      ],
      "metadata": {
        "id": "kUpJwkGmKJBq"
      }
    },
    {
      "cell_type": "code",
      "source": [],
      "metadata": {
        "id": "rlh5HXElKWGd"
      },
      "execution_count": null,
      "outputs": []
    }
  ]
}